{
 "cells": [
  {
   "cell_type": "code",
   "execution_count": 3,
   "id": "aeea4b45",
   "metadata": {},
   "outputs": [],
   "source": [
    "import matplotlib.pyplot as plt\n",
    "import seaborn as sns\n",
    "import pandas as pd\n",
    "import numpy as np\n",
    "%matplotlib inline"
   ]
  },
  {
   "cell_type": "code",
   "execution_count": 4,
   "id": "f7908cc1",
   "metadata": {},
   "outputs": [],
   "source": [
    "import warnings\n",
    "warnings.filterwarnings('ignore')"
   ]
  },
  {
   "cell_type": "code",
   "execution_count": 5,
   "id": "ad040e83",
   "metadata": {},
   "outputs": [],
   "source": [
    "df_fact = pd.read_csv('C:/Users/USER/Documents/UoD/Processing Big Data/Data/FactInternetSales.csv')\n",
    "df_customer = pd.read_csv('C:/Users/USER/Documents/UoD/Processing Big Data/Data/DimCustomer.csv')\n",
    "df_procat = pd.read_csv('C:/Users/USER/Documents/UoD/Processing Big Data/Data/AWProduct.csv')\n",
    "df_salesTerr = pd.read_csv('C:/Users/USER/Documents/UoD/Processing Big Data/Data/DimSalesTerritory.csv')"
   ]
  },
  {
   "cell_type": "code",
   "execution_count": 54,
   "id": "ee81861b",
   "metadata": {},
   "outputs": [],
   "source": [
    "fact_terr = pd.merge(df_fact, df_salesTerr, on='SalesTerritoryKey', how='left')\n",
    "rejoin = pd.merge(fact_terr, df_customer, on = 'CustomerKey', how = 'left')\n",
    "df_final = pd.merge(rejoin, df_procat, on = 'ProductKey', how = 'left')"
   ]
  },
  {
   "cell_type": "code",
   "execution_count": 55,
   "id": "7a104555",
   "metadata": {},
   "outputs": [
    {
     "data": {
      "text/html": [
       "<div>\n",
       "<style scoped>\n",
       "    .dataframe tbody tr th:only-of-type {\n",
       "        vertical-align: middle;\n",
       "    }\n",
       "\n",
       "    .dataframe tbody tr th {\n",
       "        vertical-align: top;\n",
       "    }\n",
       "\n",
       "    .dataframe thead th {\n",
       "        text-align: right;\n",
       "    }\n",
       "</style>\n",
       "<table border=\"1\" class=\"dataframe\">\n",
       "  <thead>\n",
       "    <tr style=\"text-align: right;\">\n",
       "      <th></th>\n",
       "      <th>ProductKey</th>\n",
       "      <th>OrderDateKey</th>\n",
       "      <th>DueDateKey</th>\n",
       "      <th>ShipDateKey</th>\n",
       "      <th>CustomerKey</th>\n",
       "      <th>PromotionKey</th>\n",
       "      <th>CurrencyKey</th>\n",
       "      <th>SalesTerritoryKey</th>\n",
       "      <th>SalesOrderNumber</th>\n",
       "      <th>SalesOrderLineNumber</th>\n",
       "      <th>RevisionNumber</th>\n",
       "      <th>OrderQuantity</th>\n",
       "      <th>UnitPrice</th>\n",
       "      <th>ExtendedAmount</th>\n",
       "      <th>UnitPriceDiscountPct</th>\n",
       "      <th>DiscountAmount</th>\n",
       "      <th>ProductStandardCost</th>\n",
       "      <th>TotalProductCost</th>\n",
       "      <th>SalesAmount</th>\n",
       "      <th>TaxAmt</th>\n",
       "      <th>Freight</th>\n",
       "      <th>CarrierTrackingNumber</th>\n",
       "      <th>CustomerPONumber</th>\n",
       "      <th>OrderDate</th>\n",
       "      <th>DueDate</th>\n",
       "      <th>ShipDate</th>\n",
       "      <th>SalesTerritoryAlternateKey</th>\n",
       "      <th>SalesTerritoryRegion</th>\n",
       "      <th>SalesTerritoryCountry</th>\n",
       "      <th>SalesTerritoryGroup</th>\n",
       "      <th>SalesTerritoryImage</th>\n",
       "      <th>GeographyKey</th>\n",
       "      <th>CustomerAlternateKey</th>\n",
       "      <th>Title</th>\n",
       "      <th>FirstName</th>\n",
       "      <th>MiddleName</th>\n",
       "      <th>LastName</th>\n",
       "      <th>NameStyle</th>\n",
       "      <th>BirthDate</th>\n",
       "      <th>MaritalStatus</th>\n",
       "      <th>Suffix</th>\n",
       "      <th>Gender</th>\n",
       "      <th>EmailAddress</th>\n",
       "      <th>YearlyIncome</th>\n",
       "      <th>TotalChildren</th>\n",
       "      <th>NumberChildrenAtHome</th>\n",
       "      <th>EnglishEducation</th>\n",
       "      <th>SpanishEducation</th>\n",
       "      <th>FrenchEducation</th>\n",
       "      <th>EnglishOccupation</th>\n",
       "      <th>SpanishOccupation</th>\n",
       "      <th>FrenchOccupation</th>\n",
       "      <th>HouseOwnerFlag</th>\n",
       "      <th>NumberCarsOwned</th>\n",
       "      <th>AddressLine1</th>\n",
       "      <th>AddressLine2</th>\n",
       "      <th>Phone</th>\n",
       "      <th>DateFirstPurchase</th>\n",
       "      <th>CommuteDistance</th>\n",
       "      <th>ProductAlternateKey</th>\n",
       "      <th>ProductSubcategoryKey</th>\n",
       "      <th>WeightUnitMeasureCode</th>\n",
       "      <th>SizeUnitMeasureCode</th>\n",
       "      <th>ProductName</th>\n",
       "      <th>StandardCost</th>\n",
       "      <th>FinishedGoodsFlag</th>\n",
       "      <th>Color</th>\n",
       "      <th>SafetyStockLevel</th>\n",
       "      <th>ReorderPoint</th>\n",
       "      <th>ListPrice</th>\n",
       "      <th>Size</th>\n",
       "      <th>SizeRange</th>\n",
       "      <th>Weight</th>\n",
       "      <th>DaysToManufacture</th>\n",
       "      <th>ProductLine</th>\n",
       "      <th>DealerPrice</th>\n",
       "      <th>Class</th>\n",
       "      <th>Style</th>\n",
       "      <th>ModelName</th>\n",
       "      <th>ProductDescription</th>\n",
       "      <th>StartDate</th>\n",
       "      <th>EndDate</th>\n",
       "      <th>Status</th>\n",
       "    </tr>\n",
       "  </thead>\n",
       "  <tbody>\n",
       "    <tr>\n",
       "      <th>0</th>\n",
       "      <td>310</td>\n",
       "      <td>20101229</td>\n",
       "      <td>20110110</td>\n",
       "      <td>20110105</td>\n",
       "      <td>21768</td>\n",
       "      <td>1</td>\n",
       "      <td>19</td>\n",
       "      <td>6</td>\n",
       "      <td>SO43697</td>\n",
       "      <td>1</td>\n",
       "      <td>1</td>\n",
       "      <td>1</td>\n",
       "      <td>3578.2700</td>\n",
       "      <td>3578.2700</td>\n",
       "      <td>0</td>\n",
       "      <td>0</td>\n",
       "      <td>2171.2942</td>\n",
       "      <td>2171.2942</td>\n",
       "      <td>3578.2700</td>\n",
       "      <td>286.2616</td>\n",
       "      <td>89.4568</td>\n",
       "      <td>NaN</td>\n",
       "      <td>NaN</td>\n",
       "      <td>2010-12-29 00:00:00.000</td>\n",
       "      <td>2011-01-10 00:00:00.000</td>\n",
       "      <td>2011-01-05 00:00:00.000</td>\n",
       "      <td>6</td>\n",
       "      <td>Canada</td>\n",
       "      <td>Canada</td>\n",
       "      <td>North America</td>\n",
       "      <td>0xFFD8FFE000104A46494600010101006000600000FFDB...</td>\n",
       "      <td>53</td>\n",
       "      <td>AW00021768</td>\n",
       "      <td>NaN</td>\n",
       "      <td>Cole</td>\n",
       "      <td>A</td>\n",
       "      <td>Watson</td>\n",
       "      <td>0</td>\n",
       "      <td>1952-02-19</td>\n",
       "      <td>S</td>\n",
       "      <td>NaN</td>\n",
       "      <td>M</td>\n",
       "      <td>cole1@adventure-works.com</td>\n",
       "      <td>70000.0</td>\n",
       "      <td>5</td>\n",
       "      <td>0</td>\n",
       "      <td>Bachelors</td>\n",
       "      <td>Licenciatura</td>\n",
       "      <td>Bac + 4</td>\n",
       "      <td>Management</td>\n",
       "      <td>Gestión</td>\n",
       "      <td>Direction</td>\n",
       "      <td>1</td>\n",
       "      <td>3</td>\n",
       "      <td>601 Asilomar Dr.</td>\n",
       "      <td>NaN</td>\n",
       "      <td>110-555-0129</td>\n",
       "      <td>2010-12-29</td>\n",
       "      <td>10+ Miles</td>\n",
       "      <td>BK-R93R-62</td>\n",
       "      <td>2.0</td>\n",
       "      <td>LB</td>\n",
       "      <td>CM</td>\n",
       "      <td>Road-150 Red, 62</td>\n",
       "      <td>2171.2942</td>\n",
       "      <td>1</td>\n",
       "      <td>Red</td>\n",
       "      <td>100</td>\n",
       "      <td>75</td>\n",
       "      <td>3578.2700</td>\n",
       "      <td>62</td>\n",
       "      <td>60-62 CM</td>\n",
       "      <td>15.00</td>\n",
       "      <td>4</td>\n",
       "      <td>R</td>\n",
       "      <td>2146.9620</td>\n",
       "      <td>H</td>\n",
       "      <td>U</td>\n",
       "      <td>Road-150</td>\n",
       "      <td>This bike is ridden by race winners. Developed...</td>\n",
       "      <td>2011-07-01 00:00:00.000</td>\n",
       "      <td>2007-12-28 00:00:00.000</td>\n",
       "      <td>NaN</td>\n",
       "    </tr>\n",
       "    <tr>\n",
       "      <th>1</th>\n",
       "      <td>346</td>\n",
       "      <td>20101229</td>\n",
       "      <td>20110110</td>\n",
       "      <td>20110105</td>\n",
       "      <td>28389</td>\n",
       "      <td>1</td>\n",
       "      <td>39</td>\n",
       "      <td>7</td>\n",
       "      <td>SO43698</td>\n",
       "      <td>1</td>\n",
       "      <td>1</td>\n",
       "      <td>1</td>\n",
       "      <td>3399.9900</td>\n",
       "      <td>3399.9900</td>\n",
       "      <td>0</td>\n",
       "      <td>0</td>\n",
       "      <td>1912.1544</td>\n",
       "      <td>1912.1544</td>\n",
       "      <td>3399.9900</td>\n",
       "      <td>271.9992</td>\n",
       "      <td>84.9998</td>\n",
       "      <td>NaN</td>\n",
       "      <td>NaN</td>\n",
       "      <td>2010-12-29 00:00:00.000</td>\n",
       "      <td>2011-01-10 00:00:00.000</td>\n",
       "      <td>2011-01-05 00:00:00.000</td>\n",
       "      <td>7</td>\n",
       "      <td>France</td>\n",
       "      <td>France</td>\n",
       "      <td>Europe</td>\n",
       "      <td>0xFFD8FFE000104A46494600010101004800480000FFDB...</td>\n",
       "      <td>222</td>\n",
       "      <td>AW00028389</td>\n",
       "      <td>NaN</td>\n",
       "      <td>Rachael</td>\n",
       "      <td>M</td>\n",
       "      <td>Martinez</td>\n",
       "      <td>0</td>\n",
       "      <td>1970-06-17</td>\n",
       "      <td>S</td>\n",
       "      <td>NaN</td>\n",
       "      <td>F</td>\n",
       "      <td>rachael16@adventure-works.com</td>\n",
       "      <td>20000.0</td>\n",
       "      <td>3</td>\n",
       "      <td>3</td>\n",
       "      <td>High School</td>\n",
       "      <td>Educación secundaria</td>\n",
       "      <td>Bac + 2</td>\n",
       "      <td>Manual</td>\n",
       "      <td>Obrero</td>\n",
       "      <td>Ouvrier</td>\n",
       "      <td>0</td>\n",
       "      <td>0</td>\n",
       "      <td>14, avenue du Port</td>\n",
       "      <td>NaN</td>\n",
       "      <td>1 (11) 500 555-0190</td>\n",
       "      <td>2010-12-29</td>\n",
       "      <td>0-1 Miles</td>\n",
       "      <td>BK-M82S-44</td>\n",
       "      <td>1.0</td>\n",
       "      <td>LB</td>\n",
       "      <td>CM</td>\n",
       "      <td>Mountain-100 Silver, 44</td>\n",
       "      <td>1912.1544</td>\n",
       "      <td>1</td>\n",
       "      <td>Silver</td>\n",
       "      <td>100</td>\n",
       "      <td>75</td>\n",
       "      <td>3399.9900</td>\n",
       "      <td>44</td>\n",
       "      <td>42-46 CM</td>\n",
       "      <td>21.13</td>\n",
       "      <td>4</td>\n",
       "      <td>M</td>\n",
       "      <td>2039.9940</td>\n",
       "      <td>H</td>\n",
       "      <td>U</td>\n",
       "      <td>Mountain-100</td>\n",
       "      <td>Top-of-the-line competition mountain bike. Per...</td>\n",
       "      <td>2011-07-01 00:00:00.000</td>\n",
       "      <td>2007-12-28 00:00:00.000</td>\n",
       "      <td>NaN</td>\n",
       "    </tr>\n",
       "    <tr>\n",
       "      <th>2</th>\n",
       "      <td>346</td>\n",
       "      <td>20101229</td>\n",
       "      <td>20110110</td>\n",
       "      <td>20110105</td>\n",
       "      <td>25863</td>\n",
       "      <td>1</td>\n",
       "      <td>100</td>\n",
       "      <td>1</td>\n",
       "      <td>SO43699</td>\n",
       "      <td>1</td>\n",
       "      <td>1</td>\n",
       "      <td>1</td>\n",
       "      <td>3399.9900</td>\n",
       "      <td>3399.9900</td>\n",
       "      <td>0</td>\n",
       "      <td>0</td>\n",
       "      <td>1912.1544</td>\n",
       "      <td>1912.1544</td>\n",
       "      <td>3399.9900</td>\n",
       "      <td>271.9992</td>\n",
       "      <td>84.9998</td>\n",
       "      <td>NaN</td>\n",
       "      <td>NaN</td>\n",
       "      <td>2010-12-29 00:00:00.000</td>\n",
       "      <td>2011-01-10 00:00:00.000</td>\n",
       "      <td>2011-01-05 00:00:00.000</td>\n",
       "      <td>1</td>\n",
       "      <td>Northwest</td>\n",
       "      <td>United States</td>\n",
       "      <td>North America</td>\n",
       "      <td>0xFFD8FFE000104A46494600010101004800480000FFDB...</td>\n",
       "      <td>543</td>\n",
       "      <td>AW00025863</td>\n",
       "      <td>NaN</td>\n",
       "      <td>Sydney</td>\n",
       "      <td>S</td>\n",
       "      <td>Wright</td>\n",
       "      <td>0</td>\n",
       "      <td>1952-06-01</td>\n",
       "      <td>S</td>\n",
       "      <td>NaN</td>\n",
       "      <td>F</td>\n",
       "      <td>sydney61@adventure-works.com</td>\n",
       "      <td>40000.0</td>\n",
       "      <td>5</td>\n",
       "      <td>0</td>\n",
       "      <td>High School</td>\n",
       "      <td>Educación secundaria</td>\n",
       "      <td>Bac + 2</td>\n",
       "      <td>Professional</td>\n",
       "      <td>Profesional</td>\n",
       "      <td>Cadre</td>\n",
       "      <td>1</td>\n",
       "      <td>3</td>\n",
       "      <td>4193 E. 28th Street</td>\n",
       "      <td>NaN</td>\n",
       "      <td>285-555-0113</td>\n",
       "      <td>2010-12-29</td>\n",
       "      <td>10+ Miles</td>\n",
       "      <td>BK-M82S-44</td>\n",
       "      <td>1.0</td>\n",
       "      <td>LB</td>\n",
       "      <td>CM</td>\n",
       "      <td>Mountain-100 Silver, 44</td>\n",
       "      <td>1912.1544</td>\n",
       "      <td>1</td>\n",
       "      <td>Silver</td>\n",
       "      <td>100</td>\n",
       "      <td>75</td>\n",
       "      <td>3399.9900</td>\n",
       "      <td>44</td>\n",
       "      <td>42-46 CM</td>\n",
       "      <td>21.13</td>\n",
       "      <td>4</td>\n",
       "      <td>M</td>\n",
       "      <td>2039.9940</td>\n",
       "      <td>H</td>\n",
       "      <td>U</td>\n",
       "      <td>Mountain-100</td>\n",
       "      <td>Top-of-the-line competition mountain bike. Per...</td>\n",
       "      <td>2011-07-01 00:00:00.000</td>\n",
       "      <td>2007-12-28 00:00:00.000</td>\n",
       "      <td>NaN</td>\n",
       "    </tr>\n",
       "    <tr>\n",
       "      <th>3</th>\n",
       "      <td>336</td>\n",
       "      <td>20101229</td>\n",
       "      <td>20110110</td>\n",
       "      <td>20110105</td>\n",
       "      <td>14501</td>\n",
       "      <td>1</td>\n",
       "      <td>100</td>\n",
       "      <td>4</td>\n",
       "      <td>SO43700</td>\n",
       "      <td>1</td>\n",
       "      <td>1</td>\n",
       "      <td>1</td>\n",
       "      <td>699.0982</td>\n",
       "      <td>699.0982</td>\n",
       "      <td>0</td>\n",
       "      <td>0</td>\n",
       "      <td>413.1463</td>\n",
       "      <td>413.1463</td>\n",
       "      <td>699.0982</td>\n",
       "      <td>55.9279</td>\n",
       "      <td>17.4775</td>\n",
       "      <td>NaN</td>\n",
       "      <td>NaN</td>\n",
       "      <td>2010-12-29 00:00:00.000</td>\n",
       "      <td>2011-01-10 00:00:00.000</td>\n",
       "      <td>2011-01-05 00:00:00.000</td>\n",
       "      <td>4</td>\n",
       "      <td>Southwest</td>\n",
       "      <td>United States</td>\n",
       "      <td>North America</td>\n",
       "      <td>0xFFD8FFE000104A46494600010101004800480000FFDB...</td>\n",
       "      <td>300</td>\n",
       "      <td>AW00014501</td>\n",
       "      <td>NaN</td>\n",
       "      <td>Ruben</td>\n",
       "      <td>NaN</td>\n",
       "      <td>Prasad</td>\n",
       "      <td>0</td>\n",
       "      <td>1943-11-10</td>\n",
       "      <td>M</td>\n",
       "      <td>NaN</td>\n",
       "      <td>M</td>\n",
       "      <td>ruben10@adventure-works.com</td>\n",
       "      <td>80000.0</td>\n",
       "      <td>4</td>\n",
       "      <td>0</td>\n",
       "      <td>Graduate Degree</td>\n",
       "      <td>Estudios de postgrado</td>\n",
       "      <td>Bac + 3</td>\n",
       "      <td>Management</td>\n",
       "      <td>Gestión</td>\n",
       "      <td>Direction</td>\n",
       "      <td>1</td>\n",
       "      <td>2</td>\n",
       "      <td>249 Alexander Pl.</td>\n",
       "      <td>NaN</td>\n",
       "      <td>175-555-0159</td>\n",
       "      <td>2010-12-29</td>\n",
       "      <td>1-2 Miles</td>\n",
       "      <td>BK-R50B-62</td>\n",
       "      <td>2.0</td>\n",
       "      <td>LB</td>\n",
       "      <td>CM</td>\n",
       "      <td>Road-650 Black, 62</td>\n",
       "      <td>413.1463</td>\n",
       "      <td>1</td>\n",
       "      <td>Black</td>\n",
       "      <td>100</td>\n",
       "      <td>75</td>\n",
       "      <td>699.0982</td>\n",
       "      <td>62</td>\n",
       "      <td>60-62 CM</td>\n",
       "      <td>20.00</td>\n",
       "      <td>4</td>\n",
       "      <td>R</td>\n",
       "      <td>419.4589</td>\n",
       "      <td>L</td>\n",
       "      <td>U</td>\n",
       "      <td>Road-650</td>\n",
       "      <td>Value-priced bike with many features of our to...</td>\n",
       "      <td>2011-07-01 00:00:00.000</td>\n",
       "      <td>2007-12-28 00:00:00.000</td>\n",
       "      <td>NaN</td>\n",
       "    </tr>\n",
       "    <tr>\n",
       "      <th>4</th>\n",
       "      <td>346</td>\n",
       "      <td>20101229</td>\n",
       "      <td>20110110</td>\n",
       "      <td>20110105</td>\n",
       "      <td>11003</td>\n",
       "      <td>1</td>\n",
       "      <td>6</td>\n",
       "      <td>9</td>\n",
       "      <td>SO43701</td>\n",
       "      <td>1</td>\n",
       "      <td>1</td>\n",
       "      <td>1</td>\n",
       "      <td>3399.9900</td>\n",
       "      <td>3399.9900</td>\n",
       "      <td>0</td>\n",
       "      <td>0</td>\n",
       "      <td>1912.1544</td>\n",
       "      <td>1912.1544</td>\n",
       "      <td>3399.9900</td>\n",
       "      <td>271.9992</td>\n",
       "      <td>84.9998</td>\n",
       "      <td>NaN</td>\n",
       "      <td>NaN</td>\n",
       "      <td>2010-12-29 00:00:00.000</td>\n",
       "      <td>2011-01-10 00:00:00.000</td>\n",
       "      <td>2011-01-05 00:00:00.000</td>\n",
       "      <td>9</td>\n",
       "      <td>Australia</td>\n",
       "      <td>Australia</td>\n",
       "      <td>Pacific</td>\n",
       "      <td>0xFFD8FFE000104A46494600010101004800480000FFDB...</td>\n",
       "      <td>11</td>\n",
       "      <td>AW00011003</td>\n",
       "      <td>NaN</td>\n",
       "      <td>Christy</td>\n",
       "      <td>NaN</td>\n",
       "      <td>Zhu</td>\n",
       "      <td>0</td>\n",
       "      <td>1973-08-14</td>\n",
       "      <td>S</td>\n",
       "      <td>NaN</td>\n",
       "      <td>F</td>\n",
       "      <td>christy12@adventure-works.com</td>\n",
       "      <td>70000.0</td>\n",
       "      <td>0</td>\n",
       "      <td>0</td>\n",
       "      <td>Bachelors</td>\n",
       "      <td>Licenciatura</td>\n",
       "      <td>Bac + 4</td>\n",
       "      <td>Professional</td>\n",
       "      <td>Profesional</td>\n",
       "      <td>Cadre</td>\n",
       "      <td>0</td>\n",
       "      <td>1</td>\n",
       "      <td>1825 Village Pl.</td>\n",
       "      <td>NaN</td>\n",
       "      <td>1 (11) 500 555-0162</td>\n",
       "      <td>2010-12-29</td>\n",
       "      <td>5-10 Miles</td>\n",
       "      <td>BK-M82S-44</td>\n",
       "      <td>1.0</td>\n",
       "      <td>LB</td>\n",
       "      <td>CM</td>\n",
       "      <td>Mountain-100 Silver, 44</td>\n",
       "      <td>1912.1544</td>\n",
       "      <td>1</td>\n",
       "      <td>Silver</td>\n",
       "      <td>100</td>\n",
       "      <td>75</td>\n",
       "      <td>3399.9900</td>\n",
       "      <td>44</td>\n",
       "      <td>42-46 CM</td>\n",
       "      <td>21.13</td>\n",
       "      <td>4</td>\n",
       "      <td>M</td>\n",
       "      <td>2039.9940</td>\n",
       "      <td>H</td>\n",
       "      <td>U</td>\n",
       "      <td>Mountain-100</td>\n",
       "      <td>Top-of-the-line competition mountain bike. Per...</td>\n",
       "      <td>2011-07-01 00:00:00.000</td>\n",
       "      <td>2007-12-28 00:00:00.000</td>\n",
       "      <td>NaN</td>\n",
       "    </tr>\n",
       "  </tbody>\n",
       "</table>\n",
       "</div>"
      ],
      "text/plain": [
       "   ProductKey  OrderDateKey  DueDateKey  ShipDateKey  CustomerKey  \\\n",
       "0         310      20101229    20110110     20110105        21768   \n",
       "1         346      20101229    20110110     20110105        28389   \n",
       "2         346      20101229    20110110     20110105        25863   \n",
       "3         336      20101229    20110110     20110105        14501   \n",
       "4         346      20101229    20110110     20110105        11003   \n",
       "\n",
       "   PromotionKey  CurrencyKey  SalesTerritoryKey SalesOrderNumber  \\\n",
       "0             1           19                  6          SO43697   \n",
       "1             1           39                  7          SO43698   \n",
       "2             1          100                  1          SO43699   \n",
       "3             1          100                  4          SO43700   \n",
       "4             1            6                  9          SO43701   \n",
       "\n",
       "   SalesOrderLineNumber  RevisionNumber  OrderQuantity  UnitPrice  \\\n",
       "0                     1               1              1  3578.2700   \n",
       "1                     1               1              1  3399.9900   \n",
       "2                     1               1              1  3399.9900   \n",
       "3                     1               1              1   699.0982   \n",
       "4                     1               1              1  3399.9900   \n",
       "\n",
       "   ExtendedAmount  UnitPriceDiscountPct  DiscountAmount  ProductStandardCost  \\\n",
       "0       3578.2700                     0               0            2171.2942   \n",
       "1       3399.9900                     0               0            1912.1544   \n",
       "2       3399.9900                     0               0            1912.1544   \n",
       "3        699.0982                     0               0             413.1463   \n",
       "4       3399.9900                     0               0            1912.1544   \n",
       "\n",
       "   TotalProductCost  SalesAmount    TaxAmt  Freight  CarrierTrackingNumber  \\\n",
       "0         2171.2942    3578.2700  286.2616  89.4568                    NaN   \n",
       "1         1912.1544    3399.9900  271.9992  84.9998                    NaN   \n",
       "2         1912.1544    3399.9900  271.9992  84.9998                    NaN   \n",
       "3          413.1463     699.0982   55.9279  17.4775                    NaN   \n",
       "4         1912.1544    3399.9900  271.9992  84.9998                    NaN   \n",
       "\n",
       "   CustomerPONumber                OrderDate                  DueDate  \\\n",
       "0               NaN  2010-12-29 00:00:00.000  2011-01-10 00:00:00.000   \n",
       "1               NaN  2010-12-29 00:00:00.000  2011-01-10 00:00:00.000   \n",
       "2               NaN  2010-12-29 00:00:00.000  2011-01-10 00:00:00.000   \n",
       "3               NaN  2010-12-29 00:00:00.000  2011-01-10 00:00:00.000   \n",
       "4               NaN  2010-12-29 00:00:00.000  2011-01-10 00:00:00.000   \n",
       "\n",
       "                  ShipDate  SalesTerritoryAlternateKey SalesTerritoryRegion  \\\n",
       "0  2011-01-05 00:00:00.000                           6               Canada   \n",
       "1  2011-01-05 00:00:00.000                           7               France   \n",
       "2  2011-01-05 00:00:00.000                           1            Northwest   \n",
       "3  2011-01-05 00:00:00.000                           4            Southwest   \n",
       "4  2011-01-05 00:00:00.000                           9            Australia   \n",
       "\n",
       "  SalesTerritoryCountry SalesTerritoryGroup  \\\n",
       "0                Canada       North America   \n",
       "1                France              Europe   \n",
       "2         United States       North America   \n",
       "3         United States       North America   \n",
       "4             Australia             Pacific   \n",
       "\n",
       "                                 SalesTerritoryImage  GeographyKey  \\\n",
       "0  0xFFD8FFE000104A46494600010101006000600000FFDB...            53   \n",
       "1  0xFFD8FFE000104A46494600010101004800480000FFDB...           222   \n",
       "2  0xFFD8FFE000104A46494600010101004800480000FFDB...           543   \n",
       "3  0xFFD8FFE000104A46494600010101004800480000FFDB...           300   \n",
       "4  0xFFD8FFE000104A46494600010101004800480000FFDB...            11   \n",
       "\n",
       "  CustomerAlternateKey Title FirstName MiddleName  LastName  NameStyle  \\\n",
       "0           AW00021768   NaN      Cole          A    Watson          0   \n",
       "1           AW00028389   NaN   Rachael          M  Martinez          0   \n",
       "2           AW00025863   NaN    Sydney          S    Wright          0   \n",
       "3           AW00014501   NaN     Ruben        NaN    Prasad          0   \n",
       "4           AW00011003   NaN   Christy        NaN       Zhu          0   \n",
       "\n",
       "    BirthDate MaritalStatus Suffix Gender                   EmailAddress  \\\n",
       "0  1952-02-19             S    NaN      M      cole1@adventure-works.com   \n",
       "1  1970-06-17             S    NaN      F  rachael16@adventure-works.com   \n",
       "2  1952-06-01             S    NaN      F   sydney61@adventure-works.com   \n",
       "3  1943-11-10             M    NaN      M    ruben10@adventure-works.com   \n",
       "4  1973-08-14             S    NaN      F  christy12@adventure-works.com   \n",
       "\n",
       "   YearlyIncome  TotalChildren  NumberChildrenAtHome EnglishEducation  \\\n",
       "0       70000.0              5                     0        Bachelors   \n",
       "1       20000.0              3                     3      High School   \n",
       "2       40000.0              5                     0      High School   \n",
       "3       80000.0              4                     0  Graduate Degree   \n",
       "4       70000.0              0                     0        Bachelors   \n",
       "\n",
       "        SpanishEducation FrenchEducation EnglishOccupation SpanishOccupation  \\\n",
       "0           Licenciatura         Bac + 4        Management           Gestión   \n",
       "1   Educación secundaria         Bac + 2            Manual            Obrero   \n",
       "2   Educación secundaria         Bac + 2      Professional       Profesional   \n",
       "3  Estudios de postgrado         Bac + 3        Management           Gestión   \n",
       "4           Licenciatura         Bac + 4      Professional       Profesional   \n",
       "\n",
       "  FrenchOccupation  HouseOwnerFlag  NumberCarsOwned         AddressLine1  \\\n",
       "0        Direction               1                3     601 Asilomar Dr.   \n",
       "1          Ouvrier               0                0   14, avenue du Port   \n",
       "2            Cadre               1                3  4193 E. 28th Street   \n",
       "3        Direction               1                2    249 Alexander Pl.   \n",
       "4            Cadre               0                1     1825 Village Pl.   \n",
       "\n",
       "  AddressLine2                Phone DateFirstPurchase CommuteDistance  \\\n",
       "0          NaN         110-555-0129        2010-12-29       10+ Miles   \n",
       "1          NaN  1 (11) 500 555-0190        2010-12-29       0-1 Miles   \n",
       "2          NaN         285-555-0113        2010-12-29       10+ Miles   \n",
       "3          NaN         175-555-0159        2010-12-29       1-2 Miles   \n",
       "4          NaN  1 (11) 500 555-0162        2010-12-29      5-10 Miles   \n",
       "\n",
       "  ProductAlternateKey  ProductSubcategoryKey WeightUnitMeasureCode  \\\n",
       "0          BK-R93R-62                    2.0                   LB    \n",
       "1          BK-M82S-44                    1.0                   LB    \n",
       "2          BK-M82S-44                    1.0                   LB    \n",
       "3          BK-R50B-62                    2.0                   LB    \n",
       "4          BK-M82S-44                    1.0                   LB    \n",
       "\n",
       "  SizeUnitMeasureCode              ProductName  StandardCost  \\\n",
       "0                 CM          Road-150 Red, 62     2171.2942   \n",
       "1                 CM   Mountain-100 Silver, 44     1912.1544   \n",
       "2                 CM   Mountain-100 Silver, 44     1912.1544   \n",
       "3                 CM        Road-650 Black, 62      413.1463   \n",
       "4                 CM   Mountain-100 Silver, 44     1912.1544   \n",
       "\n",
       "   FinishedGoodsFlag   Color  SafetyStockLevel  ReorderPoint  ListPrice Size  \\\n",
       "0                  1     Red               100            75  3578.2700   62   \n",
       "1                  1  Silver               100            75  3399.9900   44   \n",
       "2                  1  Silver               100            75  3399.9900   44   \n",
       "3                  1   Black               100            75   699.0982   62   \n",
       "4                  1  Silver               100            75  3399.9900   44   \n",
       "\n",
       "  SizeRange  Weight  DaysToManufacture ProductLine  DealerPrice Class Style  \\\n",
       "0  60-62 CM   15.00                  4          R     2146.9620    H     U    \n",
       "1  42-46 CM   21.13                  4          M     2039.9940    H     U    \n",
       "2  42-46 CM   21.13                  4          M     2039.9940    H     U    \n",
       "3  60-62 CM   20.00                  4          R      419.4589    L     U    \n",
       "4  42-46 CM   21.13                  4          M     2039.9940    H     U    \n",
       "\n",
       "      ModelName                                 ProductDescription  \\\n",
       "0      Road-150  This bike is ridden by race winners. Developed...   \n",
       "1  Mountain-100  Top-of-the-line competition mountain bike. Per...   \n",
       "2  Mountain-100  Top-of-the-line competition mountain bike. Per...   \n",
       "3      Road-650  Value-priced bike with many features of our to...   \n",
       "4  Mountain-100  Top-of-the-line competition mountain bike. Per...   \n",
       "\n",
       "                 StartDate                  EndDate Status  \n",
       "0  2011-07-01 00:00:00.000  2007-12-28 00:00:00.000    NaN  \n",
       "1  2011-07-01 00:00:00.000  2007-12-28 00:00:00.000    NaN  \n",
       "2  2011-07-01 00:00:00.000  2007-12-28 00:00:00.000    NaN  \n",
       "3  2011-07-01 00:00:00.000  2007-12-28 00:00:00.000    NaN  \n",
       "4  2011-07-01 00:00:00.000  2007-12-28 00:00:00.000    NaN  "
      ]
     },
     "execution_count": 55,
     "metadata": {},
     "output_type": "execute_result"
    }
   ],
   "source": [
    "pd.set_option('display.max_columns', 84)\n",
    "df_final.head()"
   ]
  },
  {
   "cell_type": "code",
   "execution_count": 56,
   "id": "699b90ad",
   "metadata": {},
   "outputs": [],
   "source": [
    "df_class = df_final"
   ]
  },
  {
   "cell_type": "code",
   "execution_count": 10,
   "id": "bab6e895",
   "metadata": {
    "collapsed": true
   },
   "outputs": [
    {
     "name": "stdout",
     "output_type": "stream",
     "text": [
      "<class 'pandas.core.frame.DataFrame'>\n",
      "Int64Index: 60398 entries, 0 to 60397\n",
      "Data columns (total 83 columns):\n",
      " #   Column                      Non-Null Count  Dtype  \n",
      "---  ------                      --------------  -----  \n",
      " 0   ProductKey                  60398 non-null  int64  \n",
      " 1   OrderDateKey                60398 non-null  int64  \n",
      " 2   DueDateKey                  60398 non-null  int64  \n",
      " 3   ShipDateKey                 60398 non-null  int64  \n",
      " 4   CustomerKey                 60398 non-null  int64  \n",
      " 5   PromotionKey                60398 non-null  int64  \n",
      " 6   CurrencyKey                 60398 non-null  int64  \n",
      " 7   SalesTerritoryKey           60398 non-null  int64  \n",
      " 8   SalesOrderNumber            60398 non-null  object \n",
      " 9   SalesOrderLineNumber        60398 non-null  int64  \n",
      " 10  RevisionNumber              60398 non-null  int64  \n",
      " 11  OrderQuantity               60398 non-null  int64  \n",
      " 12  UnitPrice                   60398 non-null  float64\n",
      " 13  ExtendedAmount              60398 non-null  float64\n",
      " 14  UnitPriceDiscountPct        60398 non-null  int64  \n",
      " 15  DiscountAmount              60398 non-null  int64  \n",
      " 16  ProductStandardCost         60398 non-null  float64\n",
      " 17  TotalProductCost            60398 non-null  float64\n",
      " 18  SalesAmount                 60398 non-null  float64\n",
      " 19  TaxAmt                      60398 non-null  float64\n",
      " 20  Freight                     60398 non-null  float64\n",
      " 21  CarrierTrackingNumber       0 non-null      float64\n",
      " 22  CustomerPONumber            0 non-null      float64\n",
      " 23  OrderDate                   60398 non-null  object \n",
      " 24  DueDate                     60398 non-null  object \n",
      " 25  ShipDate                    60398 non-null  object \n",
      " 26  SalesTerritoryAlternateKey  60398 non-null  int64  \n",
      " 27  SalesTerritoryRegion        60398 non-null  object \n",
      " 28  SalesTerritoryCountry       60398 non-null  object \n",
      " 29  SalesTerritoryGroup         60398 non-null  object \n",
      " 30  SalesTerritoryImage         60398 non-null  object \n",
      " 31  GeographyKey                60398 non-null  int64  \n",
      " 32  CustomerAlternateKey        60398 non-null  object \n",
      " 33  Title                       307 non-null    object \n",
      " 34  FirstName                   60398 non-null  object \n",
      " 35  MiddleName                  34903 non-null  object \n",
      " 36  LastName                    60398 non-null  object \n",
      " 37  NameStyle                   60398 non-null  int64  \n",
      " 38  BirthDate                   60398 non-null  object \n",
      " 39  MaritalStatus               60398 non-null  object \n",
      " 40  Suffix                      6 non-null      object \n",
      " 41  Gender                      60398 non-null  object \n",
      " 42  EmailAddress                60398 non-null  object \n",
      " 43  YearlyIncome                60398 non-null  float64\n",
      " 44  TotalChildren               60398 non-null  int64  \n",
      " 45  NumberChildrenAtHome        60398 non-null  int64  \n",
      " 46  EnglishEducation            60398 non-null  object \n",
      " 47  SpanishEducation            60398 non-null  object \n",
      " 48  FrenchEducation             60398 non-null  object \n",
      " 49  EnglishOccupation           60398 non-null  object \n",
      " 50  SpanishOccupation           60398 non-null  object \n",
      " 51  FrenchOccupation            60398 non-null  object \n",
      " 52  HouseOwnerFlag              60398 non-null  int64  \n",
      " 53  NumberCarsOwned             60398 non-null  int64  \n",
      " 54  AddressLine1                60398 non-null  object \n",
      " 55  AddressLine2                1105 non-null   object \n",
      " 56  Phone                       60398 non-null  object \n",
      " 57  DateFirstPurchase           60398 non-null  object \n",
      " 58  CommuteDistance             60398 non-null  object \n",
      " 59  ProductAlternateKey         60398 non-null  object \n",
      " 60  ProductSubcategoryKey       60398 non-null  float64\n",
      " 61  WeightUnitMeasureCode       15205 non-null  object \n",
      " 62  SizeUnitMeasureCode         15205 non-null  object \n",
      " 63  ProductName                 60398 non-null  object \n",
      " 64  StandardCost                60398 non-null  float64\n",
      " 65  FinishedGoodsFlag           60398 non-null  int64  \n",
      " 66  Color                       31479 non-null  object \n",
      " 67  SafetyStockLevel            60398 non-null  int64  \n",
      " 68  ReorderPoint                60398 non-null  int64  \n",
      " 69  ListPrice                   60398 non-null  float64\n",
      " 70  Size                        22849 non-null  object \n",
      " 71  SizeRange                   22849 non-null  object \n",
      " 72  Weight                      15205 non-null  float64\n",
      " 73  DaysToManufacture           60398 non-null  int64  \n",
      " 74  ProductLine                 60398 non-null  object \n",
      " 75  DealerPrice                 60398 non-null  float64\n",
      " 76  Class                       21452 non-null  object \n",
      " 77  Style                       24306 non-null  object \n",
      " 78  ModelName                   60398 non-null  object \n",
      " 79  ProductDescription          60398 non-null  object \n",
      " 80  StartDate                   60398 non-null  object \n",
      " 81  EndDate                     5428 non-null   object \n",
      " 82  Status                      54970 non-null  object \n",
      "dtypes: float64(15), int64(24), object(44)\n",
      "memory usage: 38.7+ MB\n"
     ]
    }
   ],
   "source": [
    "df_final.info()"
   ]
  },
  {
   "cell_type": "code",
   "execution_count": 128,
   "id": "59cbc06a",
   "metadata": {},
   "outputs": [],
   "source": [
    "# Picking out the needed parameters\n",
    "df_final = df_final[['Freight', 'SalesTerritoryGroup', 'TaxAmt', 'ProductStandardCost', 'UnitPrice', 'Gender', 'SafetyStockLevel', 'ReorderPoint']]"
   ]
  },
  {
   "cell_type": "markdown",
   "id": "f5afb66d",
   "metadata": {},
   "source": [
    "DATA MANIPULATION"
   ]
  },
  {
   "cell_type": "code",
   "execution_count": 112,
   "id": "6b34f589",
   "metadata": {},
   "outputs": [],
   "source": [
    "# replacing unusable data with usables\n",
    "#df_final['Color'].replace('NA', 'Neutral', inplace=True)"
   ]
  },
  {
   "cell_type": "code",
   "execution_count": 113,
   "id": "2a439b0b",
   "metadata": {},
   "outputs": [],
   "source": [
    "#assigning the dummy variables\n",
    "#gend = pd.get_dummies(df_final['Gender'], drop_first=True)\n",
    "#gend.rename(columns = {'M' :'Sex'}, inplace = True)"
   ]
  },
  {
   "cell_type": "code",
   "execution_count": 129,
   "id": "42358d05",
   "metadata": {},
   "outputs": [],
   "source": [
    "#assigning the dummy variables\n",
    "gend = pd.get_dummies(df_final['Gender'], drop_first=True)\n",
    "stg = pd.get_dummies(df_final['SalesTerritoryGroup'], drop_first=True)"
   ]
  },
  {
   "cell_type": "code",
   "execution_count": 130,
   "id": "474593dd",
   "metadata": {},
   "outputs": [],
   "source": [
    "# concatenating the new variables to the main\n",
    "df_final = pd.concat([df_final, stg, gend], axis = 1)\n",
    "df_final.drop(columns=['SalesTerritoryGroup', 'Gender'], inplace = True)"
   ]
  },
  {
   "cell_type": "code",
   "execution_count": 132,
   "id": "4bb91a95",
   "metadata": {},
   "outputs": [
    {
     "data": {
      "text/html": [
       "<div>\n",
       "<style scoped>\n",
       "    .dataframe tbody tr th:only-of-type {\n",
       "        vertical-align: middle;\n",
       "    }\n",
       "\n",
       "    .dataframe tbody tr th {\n",
       "        vertical-align: top;\n",
       "    }\n",
       "\n",
       "    .dataframe thead th {\n",
       "        text-align: right;\n",
       "    }\n",
       "</style>\n",
       "<table border=\"1\" class=\"dataframe\">\n",
       "  <thead>\n",
       "    <tr style=\"text-align: right;\">\n",
       "      <th></th>\n",
       "      <th>Freight</th>\n",
       "      <th>TaxAmt</th>\n",
       "      <th>ProductStandardCost</th>\n",
       "      <th>UnitPrice</th>\n",
       "      <th>SafetyStockLevel</th>\n",
       "      <th>ReorderPoint</th>\n",
       "      <th>North America</th>\n",
       "      <th>Pacific</th>\n",
       "      <th>Gender</th>\n",
       "    </tr>\n",
       "  </thead>\n",
       "  <tbody>\n",
       "    <tr>\n",
       "      <th>0</th>\n",
       "      <td>89.4568</td>\n",
       "      <td>286.2616</td>\n",
       "      <td>2171.2942</td>\n",
       "      <td>3578.2700</td>\n",
       "      <td>100</td>\n",
       "      <td>75</td>\n",
       "      <td>1</td>\n",
       "      <td>0</td>\n",
       "      <td>1</td>\n",
       "    </tr>\n",
       "    <tr>\n",
       "      <th>1</th>\n",
       "      <td>84.9998</td>\n",
       "      <td>271.9992</td>\n",
       "      <td>1912.1544</td>\n",
       "      <td>3399.9900</td>\n",
       "      <td>100</td>\n",
       "      <td>75</td>\n",
       "      <td>0</td>\n",
       "      <td>0</td>\n",
       "      <td>0</td>\n",
       "    </tr>\n",
       "    <tr>\n",
       "      <th>2</th>\n",
       "      <td>84.9998</td>\n",
       "      <td>271.9992</td>\n",
       "      <td>1912.1544</td>\n",
       "      <td>3399.9900</td>\n",
       "      <td>100</td>\n",
       "      <td>75</td>\n",
       "      <td>1</td>\n",
       "      <td>0</td>\n",
       "      <td>0</td>\n",
       "    </tr>\n",
       "    <tr>\n",
       "      <th>3</th>\n",
       "      <td>17.4775</td>\n",
       "      <td>55.9279</td>\n",
       "      <td>413.1463</td>\n",
       "      <td>699.0982</td>\n",
       "      <td>100</td>\n",
       "      <td>75</td>\n",
       "      <td>1</td>\n",
       "      <td>0</td>\n",
       "      <td>1</td>\n",
       "    </tr>\n",
       "    <tr>\n",
       "      <th>4</th>\n",
       "      <td>84.9998</td>\n",
       "      <td>271.9992</td>\n",
       "      <td>1912.1544</td>\n",
       "      <td>3399.9900</td>\n",
       "      <td>100</td>\n",
       "      <td>75</td>\n",
       "      <td>0</td>\n",
       "      <td>1</td>\n",
       "      <td>0</td>\n",
       "    </tr>\n",
       "  </tbody>\n",
       "</table>\n",
       "</div>"
      ],
      "text/plain": [
       "   Freight    TaxAmt  ProductStandardCost  UnitPrice  SafetyStockLevel  \\\n",
       "0  89.4568  286.2616            2171.2942  3578.2700               100   \n",
       "1  84.9998  271.9992            1912.1544  3399.9900               100   \n",
       "2  84.9998  271.9992            1912.1544  3399.9900               100   \n",
       "3  17.4775   55.9279             413.1463   699.0982               100   \n",
       "4  84.9998  271.9992            1912.1544  3399.9900               100   \n",
       "\n",
       "   ReorderPoint  North America  Pacific  Gender  \n",
       "0            75              1        0       1  \n",
       "1            75              0        0       0  \n",
       "2            75              1        0       0  \n",
       "3            75              1        0       1  \n",
       "4            75              0        1       0  "
      ]
     },
     "execution_count": 132,
     "metadata": {},
     "output_type": "execute_result"
    }
   ],
   "source": [
    "# Renaming the gender variable\n",
    "df_final.rename(columns = {'M' :'Gender'}, inplace = True)\n",
    "df_final.head()"
   ]
  },
  {
   "cell_type": "code",
   "execution_count": 274,
   "id": "0998fc83",
   "metadata": {},
   "outputs": [
    {
     "data": {
      "text/html": [
       "<div>\n",
       "<style scoped>\n",
       "    .dataframe tbody tr th:only-of-type {\n",
       "        vertical-align: middle;\n",
       "    }\n",
       "\n",
       "    .dataframe tbody tr th {\n",
       "        vertical-align: top;\n",
       "    }\n",
       "\n",
       "    .dataframe thead th {\n",
       "        text-align: right;\n",
       "    }\n",
       "</style>\n",
       "<table border=\"1\" class=\"dataframe\">\n",
       "  <thead>\n",
       "    <tr style=\"text-align: right;\">\n",
       "      <th></th>\n",
       "      <th>Freight</th>\n",
       "      <th>TaxAmt</th>\n",
       "      <th>ProductStandardCost</th>\n",
       "      <th>UnitPrice</th>\n",
       "      <th>SafetyStockLevel</th>\n",
       "      <th>ReorderPoint</th>\n",
       "      <th>North America</th>\n",
       "      <th>Pacific</th>\n",
       "      <th>Gender</th>\n",
       "    </tr>\n",
       "  </thead>\n",
       "  <tbody>\n",
       "    <tr>\n",
       "      <th>Freight</th>\n",
       "      <td>1.000000</td>\n",
       "      <td>1.000000</td>\n",
       "      <td>0.997845</td>\n",
       "      <td>1.000000</td>\n",
       "      <td>-0.113986</td>\n",
       "      <td>-0.113986</td>\n",
       "      <td>-0.096781</td>\n",
       "      <td>0.110640</td>\n",
       "      <td>-0.007944</td>\n",
       "    </tr>\n",
       "    <tr>\n",
       "      <th>TaxAmt</th>\n",
       "      <td>1.000000</td>\n",
       "      <td>1.000000</td>\n",
       "      <td>0.997845</td>\n",
       "      <td>1.000000</td>\n",
       "      <td>-0.113986</td>\n",
       "      <td>-0.113986</td>\n",
       "      <td>-0.096781</td>\n",
       "      <td>0.110640</td>\n",
       "      <td>-0.007944</td>\n",
       "    </tr>\n",
       "    <tr>\n",
       "      <th>ProductStandardCost</th>\n",
       "      <td>0.997845</td>\n",
       "      <td>0.997845</td>\n",
       "      <td>1.000000</td>\n",
       "      <td>0.997845</td>\n",
       "      <td>-0.114421</td>\n",
       "      <td>-0.114421</td>\n",
       "      <td>-0.098915</td>\n",
       "      <td>0.112514</td>\n",
       "      <td>-0.007693</td>\n",
       "    </tr>\n",
       "    <tr>\n",
       "      <th>UnitPrice</th>\n",
       "      <td>1.000000</td>\n",
       "      <td>1.000000</td>\n",
       "      <td>0.997845</td>\n",
       "      <td>1.000000</td>\n",
       "      <td>-0.113986</td>\n",
       "      <td>-0.113986</td>\n",
       "      <td>-0.096781</td>\n",
       "      <td>0.110640</td>\n",
       "      <td>-0.007944</td>\n",
       "    </tr>\n",
       "    <tr>\n",
       "      <th>SafetyStockLevel</th>\n",
       "      <td>-0.113986</td>\n",
       "      <td>-0.113986</td>\n",
       "      <td>-0.114421</td>\n",
       "      <td>-0.113986</td>\n",
       "      <td>1.000000</td>\n",
       "      <td>1.000000</td>\n",
       "      <td>0.004585</td>\n",
       "      <td>-0.027250</td>\n",
       "      <td>0.003523</td>\n",
       "    </tr>\n",
       "    <tr>\n",
       "      <th>ReorderPoint</th>\n",
       "      <td>-0.113986</td>\n",
       "      <td>-0.113986</td>\n",
       "      <td>-0.114421</td>\n",
       "      <td>-0.113986</td>\n",
       "      <td>1.000000</td>\n",
       "      <td>1.000000</td>\n",
       "      <td>0.004585</td>\n",
       "      <td>-0.027250</td>\n",
       "      <td>0.003523</td>\n",
       "    </tr>\n",
       "    <tr>\n",
       "      <th>North America</th>\n",
       "      <td>-0.096781</td>\n",
       "      <td>-0.096781</td>\n",
       "      <td>-0.098915</td>\n",
       "      <td>-0.096781</td>\n",
       "      <td>0.004585</td>\n",
       "      <td>0.004585</td>\n",
       "      <td>1.000000</td>\n",
       "      <td>-0.511205</td>\n",
       "      <td>0.004290</td>\n",
       "    </tr>\n",
       "    <tr>\n",
       "      <th>Pacific</th>\n",
       "      <td>0.110640</td>\n",
       "      <td>0.110640</td>\n",
       "      <td>0.112514</td>\n",
       "      <td>0.110640</td>\n",
       "      <td>-0.027250</td>\n",
       "      <td>-0.027250</td>\n",
       "      <td>-0.511205</td>\n",
       "      <td>1.000000</td>\n",
       "      <td>-0.004207</td>\n",
       "    </tr>\n",
       "    <tr>\n",
       "      <th>Gender</th>\n",
       "      <td>-0.007944</td>\n",
       "      <td>-0.007944</td>\n",
       "      <td>-0.007693</td>\n",
       "      <td>-0.007944</td>\n",
       "      <td>0.003523</td>\n",
       "      <td>0.003523</td>\n",
       "      <td>0.004290</td>\n",
       "      <td>-0.004207</td>\n",
       "      <td>1.000000</td>\n",
       "    </tr>\n",
       "  </tbody>\n",
       "</table>\n",
       "</div>"
      ],
      "text/plain": [
       "                      Freight    TaxAmt  ProductStandardCost  UnitPrice  \\\n",
       "Freight              1.000000  1.000000             0.997845   1.000000   \n",
       "TaxAmt               1.000000  1.000000             0.997845   1.000000   \n",
       "ProductStandardCost  0.997845  0.997845             1.000000   0.997845   \n",
       "UnitPrice            1.000000  1.000000             0.997845   1.000000   \n",
       "SafetyStockLevel    -0.113986 -0.113986            -0.114421  -0.113986   \n",
       "ReorderPoint        -0.113986 -0.113986            -0.114421  -0.113986   \n",
       "North America       -0.096781 -0.096781            -0.098915  -0.096781   \n",
       "Pacific              0.110640  0.110640             0.112514   0.110640   \n",
       "Gender              -0.007944 -0.007944            -0.007693  -0.007944   \n",
       "\n",
       "                     SafetyStockLevel  ReorderPoint  North America   Pacific  \\\n",
       "Freight                     -0.113986     -0.113986      -0.096781  0.110640   \n",
       "TaxAmt                      -0.113986     -0.113986      -0.096781  0.110640   \n",
       "ProductStandardCost         -0.114421     -0.114421      -0.098915  0.112514   \n",
       "UnitPrice                   -0.113986     -0.113986      -0.096781  0.110640   \n",
       "SafetyStockLevel             1.000000      1.000000       0.004585 -0.027250   \n",
       "ReorderPoint                 1.000000      1.000000       0.004585 -0.027250   \n",
       "North America                0.004585      0.004585       1.000000 -0.511205   \n",
       "Pacific                     -0.027250     -0.027250      -0.511205  1.000000   \n",
       "Gender                       0.003523      0.003523       0.004290 -0.004207   \n",
       "\n",
       "                       Gender  \n",
       "Freight             -0.007944  \n",
       "TaxAmt              -0.007944  \n",
       "ProductStandardCost -0.007693  \n",
       "UnitPrice           -0.007944  \n",
       "SafetyStockLevel     0.003523  \n",
       "ReorderPoint         0.003523  \n",
       "North America        0.004290  \n",
       "Pacific             -0.004207  \n",
       "Gender               1.000000  "
      ]
     },
     "execution_count": 274,
     "metadata": {},
     "output_type": "execute_result"
    }
   ],
   "source": [
    "df_final.corr()"
   ]
  },
  {
   "cell_type": "code",
   "execution_count": 275,
   "id": "820a84a6",
   "metadata": {},
   "outputs": [],
   "source": [
    "pd.set_option('display.max_columns', 39)"
   ]
  },
  {
   "cell_type": "code",
   "execution_count": 133,
   "id": "4c97e7ae",
   "metadata": {},
   "outputs": [
    {
     "data": {
      "image/png": "[encoded data removed]",
      "text/plain": [
       "<Figure size 432x288 with 2 Axes>"
      ]
     },
     "metadata": {
      "needs_background": "light"
     },
     "output_type": "display_data"
    }
   ],
   "source": [
    "#we  use seaborn to create a heatmap to visualise missing values\n",
    "#every light point stands for a missing value ie, isnull\n",
    "sns.heatmap(df_final.isnull());"
   ]
  },
  {
   "cell_type": "markdown",
   "id": "2698e322",
   "metadata": {},
   "source": [
    "THE PREPROCESSING"
   ]
  },
  {
   "cell_type": "code",
   "execution_count": 134,
   "id": "ce3c2ea9",
   "metadata": {},
   "outputs": [],
   "source": [
    "# creating the independent and dependent variables\n",
    "X = df_final.drop(['UnitPrice'], axis = 1)\n",
    "y = df_final['UnitPrice']"
   ]
  },
  {
   "cell_type": "code",
   "execution_count": 135,
   "id": "1a17601a",
   "metadata": {},
   "outputs": [],
   "source": [
    "from sklearn.model_selection import train_test_split"
   ]
  },
  {
   "cell_type": "code",
   "execution_count": 255,
   "id": "d0f6c86a",
   "metadata": {},
   "outputs": [],
   "source": [
    "from sklearn.model_selection import cross_val_score, KFold\n",
    "from sklearn.metrics import mean_squared_error"
   ]
  },
  {
   "cell_type": "code",
   "execution_count": 136,
   "id": "e1564213",
   "metadata": {},
   "outputs": [],
   "source": [
    "# Splitting the dataset into test and train\n",
    "X_train, X_test, y_train, y_test = train_test_split(X, y, test_size=0.4, random_state=101)"
   ]
  },
  {
   "cell_type": "markdown",
   "id": "a0354f7e",
   "metadata": {},
   "source": [
    "# THE MULTIVARIATE LINEAR REGRESSION"
   ]
  },
  {
   "cell_type": "code",
   "execution_count": 137,
   "id": "a8e29b0a",
   "metadata": {},
   "outputs": [],
   "source": [
    "# creating and train the model\n",
    "from sklearn.linear_model import LinearRegression"
   ]
  },
  {
   "cell_type": "code",
   "execution_count": 138,
   "id": "e373d5ee",
   "metadata": {},
   "outputs": [],
   "source": [
    "#creating a linear regression object\n",
    "lm = LinearRegression()"
   ]
  },
  {
   "cell_type": "code",
   "execution_count": 139,
   "id": "135ec72d",
   "metadata": {},
   "outputs": [
    {
     "data": {
      "text/plain": [
       "LinearRegression()"
      ]
     },
     "execution_count": 139,
     "metadata": {},
     "output_type": "execute_result"
    }
   ],
   "source": [
    "#fitting the model on the training data\n",
    "lm.fit(X_train, y_train)"
   ]
  },
  {
   "cell_type": "code",
   "execution_count": 140,
   "id": "0146978a",
   "metadata": {},
   "outputs": [
    {
     "data": {
      "text/plain": [
       "-3.7272590532211325e-05"
      ]
     },
     "execution_count": 140,
     "metadata": {},
     "output_type": "execute_result"
    }
   ],
   "source": [
    "#evaluating our model by cheching out its coefficient and see how we can interprete them\n",
    "lm.intercept_"
   ]
  },
  {
   "cell_type": "code",
   "execution_count": 141,
   "id": "c946e93c",
   "metadata": {},
   "outputs": [
    {
     "data": {
      "text/plain": [
       "array([ 7.73788577e-01,  1.22581859e+01,  6.64694284e-07,  7.28404595e+05,\n",
       "       -9.71206126e+05,  3.63485643e-06, -5.25225464e-06, -1.14952227e-06])"
      ]
     },
     "execution_count": 141,
     "metadata": {},
     "output_type": "execute_result"
    }
   ],
   "source": [
    "# the corresponding coefficients\n",
    "lm.coef_"
   ]
  },
  {
   "cell_type": "code",
   "execution_count": 261,
   "id": "52718c75",
   "metadata": {},
   "outputs": [
    {
     "data": {
      "text/html": [
       "<div>\n",
       "<style scoped>\n",
       "    .dataframe tbody tr th:only-of-type {\n",
       "        vertical-align: middle;\n",
       "    }\n",
       "\n",
       "    .dataframe tbody tr th {\n",
       "        vertical-align: top;\n",
       "    }\n",
       "\n",
       "    .dataframe thead th {\n",
       "        text-align: right;\n",
       "    }\n",
       "</style>\n",
       "<table border=\"1\" class=\"dataframe\">\n",
       "  <thead>\n",
       "    <tr style=\"text-align: right;\">\n",
       "      <th></th>\n",
       "      <th>Freight</th>\n",
       "      <th>TaxAmt</th>\n",
       "      <th>ProductStandardCost</th>\n",
       "      <th>SafetyStockLevel</th>\n",
       "      <th>ReorderPoint</th>\n",
       "      <th>North America</th>\n",
       "      <th>Pacific</th>\n",
       "      <th>Gender</th>\n",
       "    </tr>\n",
       "  </thead>\n",
       "  <tbody>\n",
       "    <tr>\n",
       "      <th>coefficent</th>\n",
       "      <td>0.773789</td>\n",
       "      <td>12.258186</td>\n",
       "      <td>6.646943e-07</td>\n",
       "      <td>728404.594571</td>\n",
       "      <td>-971206.126094</td>\n",
       "      <td>0.000004</td>\n",
       "      <td>-0.000005</td>\n",
       "      <td>-0.000001</td>\n",
       "    </tr>\n",
       "  </tbody>\n",
       "</table>\n",
       "</div>"
      ],
      "text/plain": [
       "             Freight     TaxAmt  ProductStandardCost  SafetyStockLevel  \\\n",
       "coefficent  0.773789  12.258186         6.646943e-07     728404.594571   \n",
       "\n",
       "             ReorderPoint  North America   Pacific    Gender  \n",
       "coefficent -971206.126094       0.000004 -0.000005 -0.000001  "
      ]
     },
     "execution_count": 261,
     "metadata": {},
     "output_type": "execute_result"
    }
   ],
   "source": [
    "# viesing the coefficients with their respective columns\n",
    "clm = pd.DataFrame(lm.coef_, X_train.columns, columns=['coefficent'])\n",
    "clm.transpose()"
   ]
  },
  {
   "cell_type": "code",
   "execution_count": 143,
   "id": "cb555d60",
   "metadata": {},
   "outputs": [],
   "source": [
    "#grabbing predictions from the test sets\n",
    "prediction = lm.predict(X_test)"
   ]
  },
  {
   "cell_type": "code",
   "execution_count": 144,
   "id": "15487470",
   "metadata": {},
   "outputs": [
    {
     "data": {
      "text/plain": [
       "array([  29.99000213,   34.98999579,   34.98999943, ...,    9.99000348,\n",
       "       1000.43742547,    8.98999475])"
      ]
     },
     "execution_count": 144,
     "metadata": {},
     "output_type": "execute_result"
    }
   ],
   "source": [
    "# the predicted values\n",
    "prediction"
   ]
  },
  {
   "cell_type": "code",
   "execution_count": 260,
   "id": "0c09def2",
   "metadata": {},
   "outputs": [
    {
     "name": "stdout",
     "output_type": "stream",
     "text": [
      "Mean cross-validation score: 1.00\n",
      "Standard Deviation cross-validation score: 0.00\n"
     ]
    }
   ],
   "source": [
    "# cross validataion \n",
    "prediction = cross_val_score(lm, X_train, y_train, cv=10)\n",
    "print(\"Mean cross-validation score: %.2f\" % prediction.mean())\n",
    "print(\"Standard Deviation cross-validation score: %.2f\" % prediction.std())"
   ]
  },
  {
   "cell_type": "code",
   "execution_count": 145,
   "id": "ca3f307a",
   "metadata": {},
   "outputs": [
    {
     "data": {
      "image/png": "[encoded data removed]",
      "text/plain": [
       "<Figure size 432x288 with 1 Axes>"
      ]
     },
     "metadata": {
      "needs_background": "light"
     },
     "output_type": "display_data"
    }
   ],
   "source": [
    "#checking the efficiency of the model with scater plot\n",
    "plt.scatter(y_test, prediction);"
   ]
  },
  {
   "cell_type": "code",
   "execution_count": null,
   "id": "8c0e6c0a",
   "metadata": {},
   "outputs": [],
   "source": []
  },
  {
   "cell_type": "code",
   "execution_count": 148,
   "id": "f4b07563",
   "metadata": {},
   "outputs": [
    {
     "data": {
      "image/png": "[encoded data removed]",
      "text/plain": [
       "<Figure size 432x288 with 1 Axes>"
      ]
     },
     "metadata": {
      "needs_background": "light"
     },
     "output_type": "display_data"
    }
   ],
   "source": [
    "#creating a hidtogram/distribution of the residual, diff bettween the actual value and the predicted value\n",
    "sns.distplot(y_test-prediction);"
   ]
  },
  {
   "cell_type": "code",
   "execution_count": 149,
   "id": "493426cc",
   "metadata": {},
   "outputs": [],
   "source": [
    "from sklearn import metrics"
   ]
  },
  {
   "cell_type": "code",
   "execution_count": 150,
   "id": "ed3c5ed5",
   "metadata": {},
   "outputs": [
    {
     "data": {
      "text/plain": [
       "0.9999999999999951"
      ]
     },
     "execution_count": 150,
     "metadata": {},
     "output_type": "execute_result"
    }
   ],
   "source": [
    "#talks about how much variance of the model is explained, the higher the %, the better the model\n",
    "metrics.explained_variance_score(y_test, prediction)"
   ]
  },
  {
   "cell_type": "markdown",
   "id": "c4c54233",
   "metadata": {},
   "source": [
    "# POLYNOMIAL REGRESSION"
   ]
  },
  {
   "cell_type": "code",
   "execution_count": 151,
   "id": "ca657b1f",
   "metadata": {},
   "outputs": [],
   "source": [
    "#Polinomial Regression Model\n",
    "from sklearn.preprocessing import PolynomialFeatures"
   ]
  },
  {
   "cell_type": "code",
   "execution_count": 244,
   "id": "4e71f07f",
   "metadata": {},
   "outputs": [],
   "source": [
    "#creating a poly_reg object with a default degree/order 2\n",
    "poly_reg = PolynomialFeatures(degree = 5, include_bias=False)"
   ]
  },
  {
   "cell_type": "code",
   "execution_count": 245,
   "id": "70793d97",
   "metadata": {},
   "outputs": [
    {
     "data": {
      "text/plain": [
       "PolynomialFeatures(degree=5, include_bias=False)"
      ]
     },
     "execution_count": 245,
     "metadata": {},
     "output_type": "execute_result"
    }
   ],
   "source": [
    "poly_reg.fit(X_train)"
   ]
  },
  {
   "cell_type": "code",
   "execution_count": 246,
   "id": "9b3df3ed",
   "metadata": {},
   "outputs": [],
   "source": [
    "poly_X_train = poly_reg.fit_transform(X_train)"
   ]
  },
  {
   "cell_type": "code",
   "execution_count": 247,
   "id": "cde0d1bd",
   "metadata": {},
   "outputs": [],
   "source": [
    "poly_X_test = poly_reg.fit_transform(X_test)\n",
    "poly_X_test = poly_reg.fit_transform(X_test)"
   ]
  },
  {
   "cell_type": "code",
   "execution_count": 248,
   "id": "b289fccb",
   "metadata": {},
   "outputs": [],
   "source": [
    "# modelling the polynomial regression using linear regression\n",
    "regressor2 = LinearRegression()"
   ]
  },
  {
   "cell_type": "code",
   "execution_count": 249,
   "id": "fa39ed14",
   "metadata": {},
   "outputs": [
    {
     "data": {
      "text/plain": [
       "LinearRegression()"
      ]
     },
     "execution_count": 249,
     "metadata": {},
     "output_type": "execute_result"
    }
   ],
   "source": [
    "regressor2.fit(poly_X_train, y_train)"
   ]
  },
  {
   "cell_type": "code",
   "execution_count": 250,
   "id": "faf5ce85",
   "metadata": {},
   "outputs": [],
   "source": [
    "y_predp = regressor2.predict(poly_X_test)"
   ]
  },
  {
   "cell_type": "code",
   "execution_count": 251,
   "id": "ecadd571",
   "metadata": {},
   "outputs": [
    {
     "data": {
      "text/plain": [
       "10.508588383775816"
      ]
     },
     "execution_count": 251,
     "metadata": {},
     "output_type": "execute_result"
    }
   ],
   "source": [
    "regressor2.intercept_"
   ]
  },
  {
   "cell_type": "code",
   "execution_count": 252,
   "id": "ee8b831d",
   "metadata": {},
   "outputs": [
    {
     "data": {
      "image/png": "[encoded data removed]",
      "text/plain": [
       "<Figure size 432x288 with 1 Axes>"
      ]
     },
     "metadata": {
      "needs_background": "light"
     },
     "output_type": "display_data"
    }
   ],
   "source": [
    "#checking the efficiency of the model with scater plot\n",
    "plt.scatter(y_test, y_predp);"
   ]
  },
  {
   "cell_type": "code",
   "execution_count": 253,
   "id": "8ac70f79",
   "metadata": {},
   "outputs": [
    {
     "data": {
      "image/png": "[encoded data removed]",
      "text/plain": [
       "<Figure size 432x288 with 1 Axes>"
      ]
     },
     "metadata": {
      "needs_background": "light"
     },
     "output_type": "display_data"
    }
   ],
   "source": [
    "#creating a hidtogram/distribution of the residual, diff bettween the actual value and the predicted value\n",
    "sns.distplot(y_test - y_predp);"
   ]
  },
  {
   "cell_type": "code",
   "execution_count": 254,
   "id": "aca39155",
   "metadata": {},
   "outputs": [
    {
     "data": {
      "text/plain": [
       "0.9991800797520277"
      ]
     },
     "execution_count": 254,
     "metadata": {},
     "output_type": "execute_result"
    }
   ],
   "source": [
    "#talks about how much variance of the model is explained, the higher the %, the better the model\n",
    "metrics.explained_variance_score(y_test, y_predp)"
   ]
  },
  {
   "cell_type": "markdown",
   "id": "4eb83c0b",
   "metadata": {},
   "source": [
    "# RANDOM FOREST"
   ]
  },
  {
   "cell_type": "code",
   "execution_count": 215,
   "id": "df995264",
   "metadata": {},
   "outputs": [],
   "source": [
    "from sklearn.ensemble import RandomForestRegressor"
   ]
  },
  {
   "cell_type": "code",
   "execution_count": 216,
   "id": "6836115d",
   "metadata": {},
   "outputs": [],
   "source": [
    "regressor = RandomForestRegressor(n_estimators = 300, random_state = 0)"
   ]
  },
  {
   "cell_type": "code",
   "execution_count": 217,
   "id": "ad193378",
   "metadata": {},
   "outputs": [
    {
     "data": {
      "text/plain": [
       "RandomForestRegressor(n_estimators=300, random_state=0)"
      ]
     },
     "execution_count": 217,
     "metadata": {},
     "output_type": "execute_result"
    }
   ],
   "source": [
    "regressor.fit(X_train, y_train)"
   ]
  },
  {
   "cell_type": "code",
   "execution_count": 218,
   "id": "5009f237",
   "metadata": {},
   "outputs": [],
   "source": [
    "pred_rf = regressor.predict(X_test)"
   ]
  },
  {
   "cell_type": "code",
   "execution_count": 259,
   "id": "0cb786b3",
   "metadata": {},
   "outputs": [
    {
     "name": "stdout",
     "output_type": "stream",
     "text": [
      "Mean cross-validation score: 1.00\n",
      "Standard Deviation cross-validation score: 0.00\n"
     ]
    }
   ],
   "source": [
    "# cross validataion \n",
    "pred_rf = cross_val_score(estimator = regressor, X = X_train, y = y_train, cv=10)\n",
    "print(\"Mean cross-validation score: %.2f\" % pred_rf.mean())\n",
    "print(\"Standard Deviation cross-validation score: %.2f\" % pred_rf.std())"
   ]
  },
  {
   "cell_type": "code",
   "execution_count": 219,
   "id": "c38caa27",
   "metadata": {},
   "outputs": [
    {
     "data": {
      "image/png": "[encoded data removed]",
      "text/plain": [
       "<Figure size 432x288 with 1 Axes>"
      ]
     },
     "metadata": {
      "needs_background": "light"
     },
     "output_type": "display_data"
    }
   ],
   "source": [
    "#checking the efficiency of the model with scater plot\n",
    "plt.scatter(y_test, pred_rf);"
   ]
  },
  {
   "cell_type": "code",
   "execution_count": 220,
   "id": "6bf755bc",
   "metadata": {},
   "outputs": [
    {
     "data": {
      "image/png": "[encoded data removed]",
      "text/plain": [
       "<Figure size 432x288 with 1 Axes>"
      ]
     },
     "metadata": {
      "needs_background": "light"
     },
     "output_type": "display_data"
    }
   ],
   "source": [
    "#creating a hidtogram/distribution of the residual, diff bettween the actual value and the predicted value\n",
    "sns.distplot(y_test - pred_rf);"
   ]
  },
  {
   "cell_type": "code",
   "execution_count": 221,
   "id": "88a8a3f5",
   "metadata": {},
   "outputs": [
    {
     "data": {
      "text/plain": [
       "0.997352102704541"
      ]
     },
     "execution_count": 221,
     "metadata": {},
     "output_type": "execute_result"
    }
   ],
   "source": [
    "#talks about how much variance of the model is explained, the higher the %, the better the model\n",
    "metrics.explained_variance_score(y_test, y_predp)"
   ]
  },
  {
   "cell_type": "markdown",
   "id": "64bbcbcb",
   "metadata": {},
   "source": [
    "# XG BOOST"
   ]
  },
  {
   "cell_type": "code",
   "execution_count": 225,
   "id": "3a42f17f",
   "metadata": {},
   "outputs": [
    {
     "name": "stdout",
     "output_type": "stream",
     "text": [
      "Collecting xgboost\n",
      "  Downloading xgboost-1.7.2-py3-none-win_amd64.whl (89.1 MB)\n",
      "Requirement already satisfied: numpy in c:\\users\\user\\anaconda3\\lib\\site-packages (from xgboost) (1.21.5)\n",
      "Requirement already satisfied: scipy in c:\\users\\user\\anaconda3\\lib\\site-packages (from xgboost) (1.7.3)\n",
      "Installing collected packages: xgboost\n",
      "Successfully installed xgboost-1.7.2\n"
     ]
    }
   ],
   "source": [
    "! pip install xgboost"
   ]
  },
  {
   "cell_type": "code",
   "execution_count": 226,
   "id": "0b4aa7e8",
   "metadata": {},
   "outputs": [],
   "source": [
    "from sklearn.model_selection import cross_val_score, KFold\n",
    "from sklearn.metrics import mean_squared_error\n",
    "import xgboost as xgb"
   ]
  },
  {
   "cell_type": "code",
   "execution_count": 227,
   "id": "f069ce1c",
   "metadata": {},
   "outputs": [
    {
     "name": "stdout",
     "output_type": "stream",
     "text": [
      "XGBRegressor(base_score=None, booster=None, callbacks=None,\n",
      "             colsample_bylevel=None, colsample_bynode=None,\n",
      "             colsample_bytree=None, early_stopping_rounds=None,\n",
      "             enable_categorical=False, eval_metric=None, feature_types=None,\n",
      "             gamma=None, gpu_id=None, grow_policy=None, importance_type=None,\n",
      "             interaction_constraints=None, learning_rate=None, max_bin=None,\n",
      "             max_cat_threshold=None, max_cat_to_onehot=None,\n",
      "             max_delta_step=None, max_depth=None, max_leaves=None,\n",
      "             min_child_weight=None, missing=nan, monotone_constraints=None,\n",
      "             n_estimators=100, n_jobs=None, num_parallel_tree=None,\n",
      "             predictor=None, random_state=None, ...)\n"
     ]
    }
   ],
   "source": [
    "xgbr = xgb.XGBRegressor(verbosity=0) \n",
    "print(xgbr)"
   ]
  },
  {
   "cell_type": "code",
   "execution_count": 229,
   "id": "5e497a9a",
   "metadata": {},
   "outputs": [
    {
     "data": {
      "text/plain": [
       "XGBRegressor(base_score=0.5, booster='gbtree', callbacks=None,\n",
       "             colsample_bylevel=1, colsample_bynode=1, colsample_bytree=1,\n",
       "             early_stopping_rounds=None, enable_categorical=False,\n",
       "             eval_metric=None, feature_types=None, gamma=0, gpu_id=-1,\n",
       "             grow_policy='depthwise', importance_type=None,\n",
       "             interaction_constraints='', learning_rate=0.300000012, max_bin=256,\n",
       "             max_cat_threshold=64, max_cat_to_onehot=4, max_delta_step=0,\n",
       "             max_depth=6, max_leaves=0, min_child_weight=1, missing=nan,\n",
       "             monotone_constraints='()', n_estimators=100, n_jobs=0,\n",
       "             num_parallel_tree=1, predictor='auto', random_state=0, ...)"
      ]
     },
     "execution_count": 229,
     "metadata": {},
     "output_type": "execute_result"
    }
   ],
   "source": [
    "xgbr.fit(X_train, y_train)"
   ]
  },
  {
   "cell_type": "code",
   "execution_count": null,
   "id": "bdd78e9b",
   "metadata": {},
   "outputs": [],
   "source": [
    "score = xgbr.score(X_train, y_train)  \n",
    "print(\"Training score: \", score)"
   ]
  }
 ],
 "metadata": {
  "kernelspec": {
   "display_name": "Python 3 (ipykernel)",
   "language": "python",
   "name": "python3"
  },
  "language_info": {
   "codemirror_mode": {
    "name": "ipython",
    "version": 3
   },
   "file_extension": ".py",
   "mimetype": "text/x-python",
   "name": "python",
   "nbconvert_exporter": "python",
   "pygments_lexer": "ipython3",
   "version": "3.9.12"
  }
 },
 "nbformat": 4,
 "nbformat_minor": 5
}
