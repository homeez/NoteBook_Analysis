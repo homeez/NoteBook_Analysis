{
  "cells": [
    {
      "cell_type": "code",
      "execution_count": null,
      "metadata": {
        "id": "07RfeEjF8_K1"
      },
      "outputs": [],
      "source": [
        "# installing Pyspark\n",
        "!pip install pyspark"
      ]
    },
    {
      "cell_type": "code",
      "execution_count": null,
      "metadata": {
        "id": "vWl9BDYVQ8rj"
      },
      "outputs": [],
      "source": [
        "# ingnoring the warning signs\n",
        "import warnings\n",
        "warnings.filterwarnings('ignore')"
      ]
    },
    {
      "cell_type": "code",
      "execution_count": null,
      "metadata": {
        "id": "XlAx0qob-9xR"
      },
      "outputs": [],
      "source": [
        "# importing pyspark functions and libraries\n",
        "from pyspark.sql.functions import sum, col, desc, mean, when\n",
        "from pyspark.sql import SparkSession\n",
        "spark = SparkSession.builder.appName('Assessment').getOrCreate()"
      ]
    },
    {
      "cell_type": "code",
      "execution_count": null,
      "metadata": {
        "id": "bo_7QfSZ2P-Q"
      },
      "outputs": [],
      "source": [
        "# importing data manipulation and visualisation libraries\n",
        "import matplotlib.pyplot as plt\n",
        "import seaborn as sns\n",
        "import pandas as pd\n",
        "import numpy as np\n",
        "%matplotlib inline"
      ]
    },
    {
      "cell_type": "code",
      "source": [
        "# importing machine libraries\n",
        "from sklearn.model_selection import train_test_split\n",
        "from sklearn.preprocessing import StandardScaler\n",
        "from sklearn.metrics import confusion_matrix, classification_report\n",
        "from sklearn.linear_model import LinearRegression\n",
        "from sklearn.linear_model import LogisticRegression\n",
        "from sklearn.svm import SVC\n",
        "from sklearn.naive_bayes import GaussianNB"
      ],
      "metadata": {
        "id": "oRf0tk_mOIOl"
      },
      "execution_count": null,
      "outputs": []
    },
    {
      "cell_type": "code",
      "execution_count": null,
      "metadata": {
        "id": "NEr_L5D4_kkG"
      },
      "outputs": [],
      "source": [
        "from google.colab import files\n",
        "files.upload()"
      ]
    },
    {
      "cell_type": "markdown",
      "metadata": {
        "id": "k3oMbTZ4Bga7"
      },
      "source": [
        "Loading the facts table"
      ]
    },
    {
      "cell_type": "code",
      "execution_count": null,
      "metadata": {
        "id": "hF97CGMk_Qxt"
      },
      "outputs": [],
      "source": [
        "# reading the datasets\n",
        "df_fact = spark.read.csv('FactInternetSales.csv', header=True, inferSchema=True)\n",
        "df_currency = spark.read.csv('DimCurrency.csv', header=True, inferSchema=True)\n",
        "df_product = spark.read.csv('DimProduct.csv', header=True, inferSchema=True)\n",
        "df_customer = spark.read.csv('DimCustomer.csv', header=True, inferSchema=True)\n",
        "df_Territory = spark.read.csv('DimSalesTerritory.csv', header=True, inferSchema=True)\n",
        "df_Date = spark.read.csv('DimDate.csv', header=True, inferSchema=True)"
      ]
    },
    {
      "cell_type": "code",
      "execution_count": null,
      "metadata": {
        "id": "RS0RpzCBF0tl"
      },
      "outputs": [],
      "source": [
        "# Creating new columns TotalSpent and Profit\n",
        "df_fact = df_fact.withColumn(\"Profit\", df_fact.UnitPrice - df_fact.TotalProductCost)\n",
        "df_fact = df_fact.withColumn(\"TotalSpent\", df_fact.UnitPrice + df_fact.TaxAmt + df_fact.Freight)\n",
        "# creating a new column to segment the customers in good(1) and bad(0)\n",
        "df_fact = df_fact.withColumn('customerSeg', when(col('TotalSpent') < 537.1, 0).otherwise(1))"
      ]
    },
    {
      "cell_type": "code",
      "execution_count": null,
      "metadata": {
        "id": "wRkHXsaSB2fF",
        "colab": {
          "base_uri": "https://localhost:8080/"
        },
        "outputId": "fef09297-bf40-4e05-d6e1-a74389267039"
      },
      "outputs": [
        {
          "output_type": "stream",
          "name": "stdout",
          "text": [
            "+----------+------------+----------+-----------+-----------+------------+-----------+-----------------+----------------+--------------------+--------------+-------------+---------+--------------+--------------------+--------------+-------------------+----------------+-----------+--------+-------+---------------------+----------------+-------------------+-------------------+-------------------+------------------+------------------+-----------+\n",
            "|ProductKey|OrderDateKey|DueDateKey|ShipDateKey|CustomerKey|PromotionKey|CurrencyKey|SalesTerritoryKey|SalesOrderNumber|SalesOrderLineNumber|RevisionNumber|OrderQuantity|UnitPrice|ExtendedAmount|UnitPriceDiscountPct|DiscountAmount|ProductStandardCost|TotalProductCost|SalesAmount|  TaxAmt|Freight|CarrierTrackingNumber|CustomerPONumber|          OrderDate|            DueDate|           ShipDate|            Profit|        TotalSpent|customerSeg|\n",
            "+----------+------------+----------+-----------+-----------+------------+-----------+-----------------+----------------+--------------------+--------------+-------------+---------+--------------+--------------------+--------------+-------------------+----------------+-----------+--------+-------+---------------------+----------------+-------------------+-------------------+-------------------+------------------+------------------+-----------+\n",
            "|       310|    20101229|  20110110|   20110105|      21768|           1|         19|                6|         SO43697|                   1|             1|            1|  3578.27|       3578.27|                   0|             0|          2171.2942|       2171.2942|    3578.27|286.2616|89.4568|                 NULL|            NULL|2010-12-29 00:00:00|2011-01-10 00:00:00|2011-01-05 00:00:00|1406.9758000000002|3953.9883999999997|          1|\n",
            "|       346|    20101229|  20110110|   20110105|      28389|           1|         39|                7|         SO43698|                   1|             1|            1|  3399.99|       3399.99|                   0|             0|          1912.1544|       1912.1544|    3399.99|271.9992|84.9998|                 NULL|            NULL|2010-12-29 00:00:00|2011-01-10 00:00:00|2011-01-05 00:00:00|1487.8355999999999|          3756.989|          1|\n",
            "+----------+------------+----------+-----------+-----------+------------+-----------+-----------------+----------------+--------------------+--------------+-------------+---------+--------------+--------------------+--------------+-------------------+----------------+-----------+--------+-------+---------------------+----------------+-------------------+-------------------+-------------------+------------------+------------------+-----------+\n",
            "only showing top 2 rows\n",
            "\n",
            "+-----------+--------------------+--------------+\n",
            "|CurrencyKey|CurrencyAlternateKey|  CurrencyName|\n",
            "+-----------+--------------------+--------------+\n",
            "|          1|                 AFA|       Afghani|\n",
            "|          2|                 DZD|Algerian Dinar|\n",
            "+-----------+--------------------+--------------+\n",
            "only showing top 2 rows\n",
            "\n",
            "+----------+-------------------+---------------------+---------------------+-------------------+---------------+------------+-----------------+-----+----------------+------------+---------+----+---------+------+-----------------+-----------+-----------+-----+-----+---------+------------------+-------------------+-------+-------+\n",
            "|ProductKey|ProductAlternateKey|ProductSubcategoryKey|WeightUnitMeasureCode|SizeUnitMeasureCode|    ProductName|StandardCost|FinishedGoodsFlag|Color|SafetyStockLevel|ReorderPoint|ListPrice|Size|SizeRange|Weight|DaysToManufacture|ProductLine|DealerPrice|Class|Style|ModelName|ProductDescription|          StartDate|EndDate| Status|\n",
            "+----------+-------------------+---------------------+---------------------+-------------------+---------------+------------+-----------------+-----+----------------+------------+---------+----+---------+------+-----------------+-----------+-----------+-----+-----+---------+------------------+-------------------+-------+-------+\n",
            "|         1|            AR-5381|                 NULL|                 NULL|               NULL|Adjustable Race|        NULL|                0|   NA|            1000|         750|     NULL|NULL|       NA|  NULL|                0|       NULL|       NULL| NULL| NULL|     NULL|              NULL|2003-07-01 00:00:00|   NULL|Current|\n",
            "|         2|            BA-8327|                 NULL|                 NULL|               NULL|   Bearing Ball|        NULL|                0|   NA|            1000|         750|     NULL|NULL|       NA|  NULL|                0|       NULL|       NULL| NULL| NULL|     NULL|              NULL|2003-07-01 00:00:00|   NULL|Current|\n",
            "+----------+-------------------+---------------------+---------------------+-------------------+---------------+------------+-----------------+-----+----------------+------------+---------+----+---------+------+-----------------+-----------+-----------+-----+-----+---------+------------------+-------------------+-------+-------+\n",
            "only showing top 2 rows\n",
            "\n",
            "+-----------+------------+--------------------+-----+---------+----------+--------+---------+-------------------+-------------+------+------+--------------------+------------+-------------+--------------------+----------------+----------------+---------------+-----------------+-----------------+----------------+--------------+---------------+---------------+------------+-------------------+-------------------+---------------+\n",
            "|CustomerKey|GeographyKey|CustomerAlternateKey|Title|FirstName|MiddleName|LastName|NameStyle|          BirthDate|MaritalStatus|Suffix|Gender|        EmailAddress|YearlyIncome|TotalChildren|NumberChildrenAtHome|EnglishEducation|SpanishEducation|FrenchEducation|EnglishOccupation|SpanishOccupation|FrenchOccupation|HouseOwnerFlag|NumberCarsOwned|   AddressLine1|AddressLine2|              Phone|  DateFirstPurchase|CommuteDistance|\n",
            "+-----------+------------+--------------------+-----+---------+----------+--------+---------+-------------------+-------------+------+------+--------------------+------------+-------------+--------------------+----------------+----------------+---------------+-----------------+-----------------+----------------+--------------+---------------+---------------+------------+-------------------+-------------------+---------------+\n",
            "|      11000|          26|          AW00011000| NULL|      Jon|         V|    Yang|        0|1971-10-06 00:00:00|            M|  NULL|     M|jon24@adventure-w...|     90000.0|            2|                   0|       Bachelors|    Licenciatura|        Bac + 4|     Professional|      Profesional|           Cadre|             1|              0|3761 N. 14th St|        NULL|1 (11) 500 555-0162|2011-01-19 00:00:00|      1-2 Miles|\n",
            "|      11001|          37|          AW00011001| NULL|   Eugene|         L|   Huang|        0|1976-05-10 00:00:00|            S|  NULL|     M|eugene10@adventur...|     60000.0|            3|                   3|       Bachelors|    Licenciatura|        Bac + 4|     Professional|      Profesional|           Cadre|             0|              1|     2243 W St.|        NULL|1 (11) 500 555-0110|2011-01-15 00:00:00|      0-1 Miles|\n",
            "+-----------+------------+--------------------+-----+---------+----------+--------+---------+-------------------+-------------+------+------+--------------------+------------+-------------+--------------------+----------------+----------------+---------------+-----------------+-----------------+----------------+--------------+---------------+---------------+------------+-------------------+-------------------+---------------+\n",
            "only showing top 2 rows\n",
            "\n",
            "+-----------------+--------------------------+--------------------+---------------------+-------------------+--------------------+\n",
            "|SalesTerritoryKey|SalesTerritoryAlternateKey|SalesTerritoryRegion|SalesTerritoryCountry|SalesTerritoryGroup| SalesTerritoryImage|\n",
            "+-----------------+--------------------------+--------------------+---------------------+-------------------+--------------------+\n",
            "|                1|                         1|           Northwest|        United States|      North America|0xFFD8FFE000104A4...|\n",
            "|                2|                         2|           Northeast|        United States|      North America|0xFFD8FFE000104A4...|\n",
            "+-----------------+--------------------------+--------------------+---------------------+-------------------+--------------------+\n",
            "only showing top 2 rows\n",
            "\n",
            "+--------+--------------------+---------------+--------------------+--------------------+-------------------+----------------+---------------+----------------+----------------+----------------+---------------+-----------------+---------------+------------+----------------+-------------+----------+--------------+\n",
            "| DateKey|FullDateAlternateKey|DayNumberOfWeek|EnglishDayNameOfWeek|SpanishDayNameOfWeek|FrenchDayNameOfWeek|DayNumberOfMonth|DayNumberOfYear|WeekNumberOfYear|EnglishMonthName|SpanishMonthName|FrenchMonthName|MonthNumberOfYear|CalendarQuarter|CalendarYear|CalendarSemester|FiscalQuarter|FiscalYear|FiscalSemester|\n",
            "+--------+--------------------+---------------+--------------------+--------------------+-------------------+----------------+---------------+----------------+----------------+----------------+---------------+-----------------+---------------+------------+----------------+-------------+----------+--------------+\n",
            "|20050101| 2005-01-01 00:00:00|              7|            Saturday|              Sábado|             Samedi|               1|              1|               1|         January|           Enero|        Janvier|                1|              1|        2005|               1|            3|      2005|             2|\n",
            "|20050102| 2005-01-02 00:00:00|              1|              Sunday|             Domingo|           Dimanche|               2|              2|               2|         January|           Enero|        Janvier|                1|              1|        2005|               1|            3|      2005|             2|\n",
            "+--------+--------------------+---------------+--------------------+--------------------+-------------------+----------------+---------------+----------------+----------------+----------------+---------------+-----------------+---------------+------------+----------------+-------------+----------+--------------+\n",
            "only showing top 2 rows\n",
            "\n"
          ]
        }
      ],
      "source": [
        "# showing the datasets\n",
        "df_fact.show(2)\n",
        "df_currency.show(2)\n",
        "df_product.show(2)\n",
        "df_customer.show(2)\n",
        "df_Territory.show(2)\n",
        "df_Date.show(2)"
      ]
    },
    {
      "cell_type": "code",
      "source": [
        "df_fact.summary().show()"
      ],
      "metadata": {
        "colab": {
          "base_uri": "https://localhost:8080/"
        },
        "id": "TOruBMOtv0TK",
        "outputId": "dbe509de-c5ff-459d-9608-f170ef55d486"
      },
      "execution_count": null,
      "outputs": [
        {
          "output_type": "stream",
          "name": "stdout",
          "text": [
            "+-------+------------------+-------------------+-------------------+--------------------+------------------+------------------+-----------------+------------------+----------------+--------------------+--------------+-------------+-----------------+-----------------+--------------------+--------------+-------------------+-----------------+-----------------+------------------+------------------+---------------------+----------------+------------------+------------------+-------------------+\n",
            "|summary|        ProductKey|       OrderDateKey|         DueDateKey|         ShipDateKey|       CustomerKey|      PromotionKey|      CurrencyKey| SalesTerritoryKey|SalesOrderNumber|SalesOrderLineNumber|RevisionNumber|OrderQuantity|        UnitPrice|   ExtendedAmount|UnitPriceDiscountPct|DiscountAmount|ProductStandardCost| TotalProductCost|      SalesAmount|            TaxAmt|           Freight|CarrierTrackingNumber|CustomerPONumber|            Profit|        TotalSpent|        customerSeg|\n",
            "+-------+------------------+-------------------+-------------------+--------------------+------------------+------------------+-----------------+------------------+----------------+--------------------+--------------+-------------+-----------------+-----------------+--------------------+--------------+-------------------+-----------------+-----------------+------------------+------------------+---------------------+----------------+------------------+------------------+-------------------+\n",
            "|  count|             60398|              60398|              60398|               60398|             60398|             60398|            60398|             60398|           60398|               60398|         60398|        60398|            60398|            60398|               60398|         60398|              60398|            60398|            60398|             60398|             60398|                60398|           60398|             60398|             60398|              60398|\n",
            "|   mean|  437.557932381867|2.012973493314348E7|2.013010416608166E7|2.0129938434186563E7|18841.685420047022|1.0418391337461506|69.84532600417232| 6.244461737143614|            null|  1.8863207390973211|           1.0|          1.0|486.0869105049381|486.0869105049381|                 0.0|           0.0|  286.0656574008799|286.0656574008799|486.0869105049381|38.886953708746155|12.152217111491757|                 null|            null| 200.0212531044196| 537.1260813255993| 0.2517467465810126|\n",
            "| stddev|118.08839049700869| 4745.0503377864325|  4985.453229355979|   4851.060708270001| 5432.430404014208| 0.342604570073712| 42.1463631512379|2.9611497332880754|            null|  1.0163284211738743|           0.0|          0.0| 928.489891980806| 928.489891980806|                 0.0|           0.0|  552.4576408810644|552.4576408810644| 928.489891980806| 74.27919255248143|  23.2122482327679|                 null|            null| 378.9598984781788|1025.9813327660474|0.43402009289402926|\n",
            "|    min|               214|           20101229|           20110110|            20110105|             11000|                 1|                6|                 1|         SO43697|                   1|             1|            1|             2.29|             2.29|                   0|             0|             0.8565|           0.8565|             2.29|            0.1832|            0.0573|                 NULL|            NULL|            1.4335|            2.5305|                  0|\n",
            "|    25%|               359|           20130403|           20130415|            20130410|             14002|                 1|               19|                 4|            null|                   1|             1|            1|             7.95|             7.95|                   0|             0|             2.9733|           2.9733|             7.95|             0.636|            0.1988|                 null|            null|3.1237000000000004|            8.7848|                  0|\n",
            "|    50%|               479|           20130714|           20130726|            20130721|             18143|                 1|              100|                 7|            null|                   2|             1|            1|            29.99|            29.99|                   0|             0|            11.2163|          11.2163|            29.99|            2.3992|            0.7498|                 null|            null|15.643699999999999|33.138999999999996|                  0|\n",
            "|    75%|               529|           20131018|           20131030|            20131025|             23428|                 1|              100|                 9|            null|                   2|             1|            1|           539.99|           539.99|                   0|             0|           294.5797|         294.5797|           539.99|           43.1992|           13.4998|                 null|            null|          196.3404| 596.6890000000001|                  1|\n",
            "|    max|               606|           20140128|           20140209|            20140204|             29483|                14|              100|                10|         SO75123|                   8|             1|            1|          3578.27|          3578.27|                   0|             0|          2171.2942|        2171.2942|          3578.27|          286.2616|           89.4568|                 NULL|            NULL|1487.8355999999999|3953.9883999999997|                  1|\n",
            "+-------+------------------+-------------------+-------------------+--------------------+------------------+------------------+-----------------+------------------+----------------+--------------------+--------------+-------------+-----------------+-----------------+--------------------+--------------+-------------------+-----------------+-----------------+------------------+------------------+---------------------+----------------+------------------+------------------+-------------------+\n",
            "\n"
          ]
        }
      ]
    },
    {
      "cell_type": "markdown",
      "metadata": {
        "id": "T9a9KF4kJM1-"
      },
      "source": [
        "# The Exploratory Data Analysis"
      ]
    },
    {
      "cell_type": "code",
      "execution_count": null,
      "metadata": {
        "colab": {
          "base_uri": "https://localhost:8080/",
          "height": 334
        },
        "id": "b85CAoL7JZY3",
        "outputId": "18f228a3-9e92-49e0-e697-159c9e21e72a"
      },
      "outputs": [
        {
          "data": {
            "image/png": "[encoded data removed]",
            "text/plain": [
              "<Figure size 576x360 with 1 Axes>"
            ]
          },
          "metadata": {},
          "output_type": "display_data"
        }
      ],
      "source": [
        "# KDE plot od the Unit price column\n",
        "kde_price = df_fact.select(\"UnitPrice\")\n",
        "plt.figure(figsize=(8,5))\n",
        "kde_price = kde_price.toPandas()\n",
        "sns.kdeplot(kde_price['UnitPrice'], shade = True)\n",
        "plt.show()"
      ]
    },
    {
      "cell_type": "markdown",
      "source": [
        "Above is the Kernel Density Distribution plot of the Unit Price column, it appears that the distribution is highly left-skewed. In order words, it indicates that we have majority of the price around 100 per unit"
      ],
      "metadata": {
        "id": "-a4if0GLniPy"
      }
    },
    {
      "cell_type": "code",
      "execution_count": null,
      "metadata": {
        "colab": {
          "base_uri": "https://localhost:8080/",
          "height": 386
        },
        "id": "MhD3ObD_JZam",
        "outputId": "10324dcf-0884-4828-d513-c2ccca2d0ad3"
      },
      "outputs": [
        {
          "data": {
            "text/plain": [
              "<Figure size 360x720 with 0 Axes>"
            ]
          },
          "metadata": {},
          "output_type": "display_data"
        },
        {
          "data": {
            "image/png": "[encoded data removed]",
            "text/plain": [
              "<Figure size 360x360 with 1 Axes>"
            ]
          },
          "metadata": {},
          "output_type": "display_data"
        }
      ],
      "source": [
        "#scatter plot\n",
        "TA = df_fact.select('TotalSpent', 'TaxAmt').toPandas()\n",
        "plt.figure(figsize=(5,10))\n",
        "sns.lmplot(x='TaxAmt', y='TotalSpent', data=TA);"
      ]
    },
    {
      "cell_type": "code",
      "source": [
        "#scatter plot\n",
        "yt = df_fact.select('TotalProductCost', 'TaxAmt').toPandas()\n",
        "plt.figure(figsize=(10,5))\n",
        "sns.scatterplot(x='TotalProductCost', y='TaxAmt', data=yt, palette = 'winter')\n",
        "plt.title('Product cost vs Tax amount');"
      ],
      "metadata": {
        "colab": {
          "base_uri": "https://localhost:8080/",
          "height": 350
        },
        "id": "sB8TyPi501Yx",
        "outputId": "6f8d94be-316a-4e9c-f7d7-6006a6f5d171"
      },
      "execution_count": null,
      "outputs": [
        {
          "output_type": "display_data",
          "data": {
            "text/plain": [
              "<Figure size 720x360 with 1 Axes>"
            ],
            "image/png": "[encoded data removed]"
          },
          "metadata": {
            "needs_background": "light"
          }
        }
      ]
    },
    {
      "cell_type": "code",
      "execution_count": null,
      "metadata": {
        "colab": {
          "base_uri": "https://localhost:8080/"
        },
        "id": "9k4iBH0XJxfX",
        "outputId": "cc55cf07-1d8e-405b-dc88-dd5cbbfa2e69"
      },
      "outputs": [
        {
          "output_type": "stream",
          "name": "stdout",
          "text": [
            "+-----------------+----------+------------+----------+-----------+-----------+------------+-----------+----------------+--------------------+--------------+-------------+---------+--------------+--------------------+--------------+-------------------+----------------+-----------+--------+-------+---------------------+----------------+-------------------+-------------------+-------------------+------------------+------------------+-----------+--------------------------+--------------------+---------------------+-------------------+--------------------+\n",
            "|SalesTerritoryKey|ProductKey|OrderDateKey|DueDateKey|ShipDateKey|CustomerKey|PromotionKey|CurrencyKey|SalesOrderNumber|SalesOrderLineNumber|RevisionNumber|OrderQuantity|UnitPrice|ExtendedAmount|UnitPriceDiscountPct|DiscountAmount|ProductStandardCost|TotalProductCost|SalesAmount|  TaxAmt|Freight|CarrierTrackingNumber|CustomerPONumber|          OrderDate|            DueDate|           ShipDate|            Profit|        TotalSpent|customerSeg|SalesTerritoryAlternateKey|SalesTerritoryRegion|SalesTerritoryCountry|SalesTerritoryGroup| SalesTerritoryImage|\n",
            "+-----------------+----------+------------+----------+-----------+-----------+------------+-----------+----------------+--------------------+--------------+-------------+---------+--------------+--------------------+--------------+-------------------+----------------+-----------+--------+-------+---------------------+----------------+-------------------+-------------------+-------------------+------------------+------------------+-----------+--------------------------+--------------------+---------------------+-------------------+--------------------+\n",
            "|                6|       310|    20101229|  20110110|   20110105|      21768|           1|         19|         SO43697|                   1|             1|            1|  3578.27|       3578.27|                   0|             0|          2171.2942|       2171.2942|    3578.27|286.2616|89.4568|                 NULL|            NULL|2010-12-29 00:00:00|2011-01-10 00:00:00|2011-01-05 00:00:00|1406.9758000000002|3953.9883999999997|          1|                         6|              Canada|               Canada|      North America|0xFFD8FFE000104A4...|\n",
            "|                7|       346|    20101229|  20110110|   20110105|      28389|           1|         39|         SO43698|                   1|             1|            1|  3399.99|       3399.99|                   0|             0|          1912.1544|       1912.1544|    3399.99|271.9992|84.9998|                 NULL|            NULL|2010-12-29 00:00:00|2011-01-10 00:00:00|2011-01-05 00:00:00|1487.8355999999999|          3756.989|          1|                         7|              France|               France|             Europe|0xFFD8FFE000104A4...|\n",
            "+-----------------+----------+------------+----------+-----------+-----------+------------+-----------+----------------+--------------------+--------------+-------------+---------+--------------+--------------------+--------------+-------------------+----------------+-----------+--------+-------+---------------------+----------------+-------------------+-------------------+-------------------+------------------+------------------+-----------+--------------------------+--------------------+---------------------+-------------------+--------------------+\n",
            "only showing top 2 rows\n",
            "\n"
          ]
        }
      ],
      "source": [
        "# joining the fact and territory table together\n",
        "fact_terr = df_fact.join(df_Territory, on = ['SalesTerritoryKey'], how = 'left_outer')\n",
        "fact_terr.show(2)"
      ]
    },
    {
      "cell_type": "code",
      "execution_count": null,
      "metadata": {
        "colab": {
          "base_uri": "https://localhost:8080/",
          "height": 525
        },
        "id": "1tn1Q8HodxbS",
        "outputId": "96d28a44-5119-4582-f1ed-47021f698c6e"
      },
      "outputs": [
        {
          "name": "stdout",
          "output_type": "stream",
          "text": [
            "+---------------------+------------------+\n",
            "|SalesTerritoryCountry|       avg(Profit)|\n",
            "+---------------------+------------------+\n",
            "|              Germany|211.08813600000246|\n",
            "|               France|195.44165559554006|\n",
            "|        United States|182.76709158077773|\n",
            "|               Canada|108.91358283464798|\n",
            "|            Australia|276.19745794680404|\n",
            "|       United Kingdom| 201.3453197219836|\n",
            "+---------------------+------------------+\n",
            "\n"
          ]
        },
        {
          "data": {
            "image/png": "[encoded data removed]",
            "text/plain": [
              "<Figure size 576x360 with 1 Axes>"
            ]
          },
          "metadata": {},
          "output_type": "display_data"
        }
      ],
      "source": [
        "# Profit made on sales in each Territory Countey\n",
        "fact_terr.groupby('SalesTerritoryCountry').agg({'Profit' : 'mean'}).show()\n",
        "pro = fact_terr.groupby('SalesTerritoryCountry').agg({'Profit' : 'mean'}).toPandas()\n",
        "plt.figure(figsize=(8,5))\n",
        "sns.barplot( x = pro['SalesTerritoryCountry'], y = pro['avg(Profit)'])\n",
        "plt.xlabel('Sales Territory')\n",
        "plt.ylabel('Profit');"
      ]
    },
    {
      "cell_type": "code",
      "execution_count": null,
      "metadata": {
        "id": "DUGhiOZamFjz",
        "colab": {
          "base_uri": "https://localhost:8080/"
        },
        "outputId": "b02410ce-68b4-44fe-92e8-e391a8ae7a15"
      },
      "outputs": [
        {
          "output_type": "stream",
          "name": "stdout",
          "text": [
            "+-------------------+------------------+\n",
            "|SalesTerritoryGroup|Mean UnitPrice    |\n",
            "+-------------------+------------------+\n",
            "|Pacific            |678.9809355115221 |\n",
            "|Europe             |493.67252271557425|\n",
            "|North America      |392.47460201987155|\n",
            "+-------------------+------------------+\n",
            "\n"
          ]
        }
      ],
      "source": [
        "fact_terr.groupBy(\"SalesTerritoryGroup\").agg(mean(\"UnitPrice\").alias(\"Mean UnitPrice\")).sort(desc(\"Mean UnitPrice\")).show(truncate = False)"
      ]
    },
    {
      "cell_type": "code",
      "execution_count": null,
      "metadata": {
        "id": "kBc1a9hrocOs",
        "colab": {
          "base_uri": "https://localhost:8080/"
        },
        "outputId": "95ceff37-3aba-43dc-c157-0ca612656291"
      },
      "outputs": [
        {
          "output_type": "stream",
          "name": "stdout",
          "text": [
            "+-----------+----------+------------+----------+-----------+-----------+------------+-----------------+----------------+--------------------+--------------+-------------+---------+--------------+--------------------+--------------+-------------------+----------------+-----------+--------+-------+---------------------+----------------+-------------------+-------------------+-------------------+------------------+------------------+-----------+--------------------+---------------+\n",
            "|CurrencyKey|ProductKey|OrderDateKey|DueDateKey|ShipDateKey|CustomerKey|PromotionKey|SalesTerritoryKey|SalesOrderNumber|SalesOrderLineNumber|RevisionNumber|OrderQuantity|UnitPrice|ExtendedAmount|UnitPriceDiscountPct|DiscountAmount|ProductStandardCost|TotalProductCost|SalesAmount|  TaxAmt|Freight|CarrierTrackingNumber|CustomerPONumber|          OrderDate|            DueDate|           ShipDate|            Profit|        TotalSpent|customerSeg|CurrencyAlternateKey|   CurrencyName|\n",
            "+-----------+----------+------------+----------+-----------+-----------+------------+-----------------+----------------+--------------------+--------------+-------------+---------+--------------+--------------------+--------------+-------------------+----------------+-----------+--------+-------+---------------------+----------------+-------------------+-------------------+-------------------+------------------+------------------+-----------+--------------------+---------------+\n",
            "|         19|       310|    20101229|  20110110|   20110105|      21768|           1|                6|         SO43697|                   1|             1|            1|  3578.27|       3578.27|                   0|             0|          2171.2942|       2171.2942|    3578.27|286.2616|89.4568|                 NULL|            NULL|2010-12-29 00:00:00|2011-01-10 00:00:00|2011-01-05 00:00:00|1406.9758000000002|3953.9883999999997|          1|                 CAD|Canadian Dollar|\n",
            "|         39|       346|    20101229|  20110110|   20110105|      28389|           1|                7|         SO43698|                   1|             1|            1|  3399.99|       3399.99|                   0|             0|          1912.1544|       1912.1544|    3399.99|271.9992|84.9998|                 NULL|            NULL|2010-12-29 00:00:00|2011-01-10 00:00:00|2011-01-05 00:00:00|1487.8355999999999|          3756.989|          1|                 FRF|   French Franc|\n",
            "+-----------+----------+------------+----------+-----------+-----------+------------+-----------------+----------------+--------------------+--------------+-------------+---------+--------------+--------------------+--------------+-------------------+----------------+-----------+--------+-------+---------------------+----------------+-------------------+-------------------+-------------------+------------------+------------------+-----------+--------------------+---------------+\n",
            "only showing top 2 rows\n",
            "\n"
          ]
        }
      ],
      "source": [
        "# joining the fact and currency table\n",
        "fact_curr = df_fact.join(df_currency, on = ['CurrencyKey'], how = 'left_outer')\n",
        "fact_curr.show(2)"
      ]
    },
    {
      "cell_type": "code",
      "execution_count": null,
      "metadata": {
        "id": "4jwKTK4nL3Eq"
      },
      "outputs": [],
      "source": [
        "fact_curr.describe().show()"
      ]
    },
    {
      "cell_type": "code",
      "execution_count": null,
      "metadata": {
        "id": "coVOLt-TQrvs",
        "colab": {
          "base_uri": "https://localhost:8080/",
          "height": 351
        },
        "outputId": "809d3644-580d-4936-fb86-24b67c134ab4"
      },
      "outputs": [
        {
          "output_type": "execute_result",
          "data": {
            "text/plain": [
              "<matplotlib.axes._subplots.AxesSubplot at 0x7f0fe1157130>"
            ]
          },
          "metadata": {},
          "execution_count": 33
        },
        {
          "output_type": "display_data",
          "data": {
            "text/plain": [
              "<Figure size 576x360 with 1 Axes>"
            ],
            "image/png": "[encoded data removed]"
          },
          "metadata": {
            "needs_background": "light"
          }
        }
      ],
      "source": [
        "bar_tax = fact_curr.groupBy(\"CurrencyName\").agg(sum(\"TaxAmt\").alias(\"TaxAmount\")).sort(desc(\"TaxAmount\")).toPandas()\n",
        "plt.figure(figsize=(8,5))\n",
        "sns.barplot(data=bar_tax, x=\"TaxAmount\", y=\"CurrencyName\")"
      ]
    },
    {
      "cell_type": "code",
      "execution_count": null,
      "metadata": {
        "colab": {
          "base_uri": "https://localhost:8080/"
        },
        "id": "Fg_Tuhe8I0hq",
        "outputId": "b42f8fa2-9e91-450c-a6f0-ab4574390439"
      },
      "outputs": [
        {
          "output_type": "stream",
          "name": "stdout",
          "text": [
            "+-----------+----------+------------+----------+-----------+------------+-----------+-----------------+----------------+--------------------+--------------+-------------+---------+--------------+--------------------+--------------+-------------------+----------------+-----------+--------+-------+---------------------+----------------+-------------------+-------------------+-------------------+------------------+------------------+-----------+------------+--------------------+-----+---------+----------+--------+---------+-------------------+-------------+------+------+--------------------+------------+-------------+--------------------+----------------+--------------------+---------------+-----------------+-----------------+----------------+--------------+---------------+------------------+------------+-------------------+-------------------+---------------+\n",
            "|CustomerKey|ProductKey|OrderDateKey|DueDateKey|ShipDateKey|PromotionKey|CurrencyKey|SalesTerritoryKey|SalesOrderNumber|SalesOrderLineNumber|RevisionNumber|OrderQuantity|UnitPrice|ExtendedAmount|UnitPriceDiscountPct|DiscountAmount|ProductStandardCost|TotalProductCost|SalesAmount|  TaxAmt|Freight|CarrierTrackingNumber|CustomerPONumber|          OrderDate|            DueDate|           ShipDate|            Profit|        TotalSpent|customerSeg|GeographyKey|CustomerAlternateKey|Title|FirstName|MiddleName|LastName|NameStyle|          BirthDate|MaritalStatus|Suffix|Gender|        EmailAddress|YearlyIncome|TotalChildren|NumberChildrenAtHome|EnglishEducation|    SpanishEducation|FrenchEducation|EnglishOccupation|SpanishOccupation|FrenchOccupation|HouseOwnerFlag|NumberCarsOwned|      AddressLine1|AddressLine2|              Phone|  DateFirstPurchase|CommuteDistance|\n",
            "+-----------+----------+------------+----------+-----------+------------+-----------+-----------------+----------------+--------------------+--------------+-------------+---------+--------------+--------------------+--------------+-------------------+----------------+-----------+--------+-------+---------------------+----------------+-------------------+-------------------+-------------------+------------------+------------------+-----------+------------+--------------------+-----+---------+----------+--------+---------+-------------------+-------------+------+------+--------------------+------------+-------------+--------------------+----------------+--------------------+---------------+-----------------+-----------------+----------------+--------------+---------------+------------------+------------+-------------------+-------------------+---------------+\n",
            "|      21768|       310|    20101229|  20110110|   20110105|           1|         19|                6|         SO43697|                   1|             1|            1|  3578.27|       3578.27|                   0|             0|          2171.2942|       2171.2942|    3578.27|286.2616|89.4568|                 NULL|            NULL|2010-12-29 00:00:00|2011-01-10 00:00:00|2011-01-05 00:00:00|1406.9758000000002|3953.9883999999997|          1|          53|          AW00021768| NULL|     Cole|         A|  Watson|        0|1952-02-19 00:00:00|            S|  NULL|     M|cole1@adventure-w...|     70000.0|            5|                   0|       Bachelors|        Licenciatura|        Bac + 4|       Management|          Gestión|       Direction|             1|              3|  601 Asilomar Dr.|        NULL|       110-555-0129|2010-12-29 00:00:00|      10+ Miles|\n",
            "|      28389|       346|    20101229|  20110110|   20110105|           1|         39|                7|         SO43698|                   1|             1|            1|  3399.99|       3399.99|                   0|             0|          1912.1544|       1912.1544|    3399.99|271.9992|84.9998|                 NULL|            NULL|2010-12-29 00:00:00|2011-01-10 00:00:00|2011-01-05 00:00:00|1487.8355999999999|          3756.989|          1|         222|          AW00028389| NULL|  Rachael|         M|Martinez|        0|1970-06-17 00:00:00|            S|  NULL|     F|rachael16@adventu...|     20000.0|            3|                   3|     High School|Educación secundaria|        Bac + 2|           Manual|           Obrero|         Ouvrier|             0|              0|14, avenue du Port|        NULL|1 (11) 500 555-0190|2010-12-29 00:00:00|      0-1 Miles|\n",
            "+-----------+----------+------------+----------+-----------+------------+-----------+-----------------+----------------+--------------------+--------------+-------------+---------+--------------+--------------------+--------------+-------------------+----------------+-----------+--------+-------+---------------------+----------------+-------------------+-------------------+-------------------+------------------+------------------+-----------+------------+--------------------+-----+---------+----------+--------+---------+-------------------+-------------+------+------+--------------------+------------+-------------+--------------------+----------------+--------------------+---------------+-----------------+-----------------+----------------+--------------+---------------+------------------+------------+-------------------+-------------------+---------------+\n",
            "only showing top 2 rows\n",
            "\n"
          ]
        }
      ],
      "source": [
        "# Joining the fact and customer table\n",
        "fact_cus = df_fact.join(df_customer, on = ['customerKey'], how = 'left_outer')\n",
        "fact_cus.show(2)"
      ]
    },
    {
      "cell_type": "code",
      "execution_count": null,
      "metadata": {
        "colab": {
          "base_uri": "https://localhost:8080/",
          "height": 351
        },
        "id": "4nvIPndNKHcn",
        "outputId": "788cccf8-79e0-49e0-b891-54b55fd106de"
      },
      "outputs": [
        {
          "output_type": "execute_result",
          "data": {
            "text/plain": [
              "<matplotlib.axes._subplots.AxesSubplot at 0x7f0fe09c3430>"
            ]
          },
          "metadata": {},
          "execution_count": 47
        },
        {
          "output_type": "display_data",
          "data": {
            "text/plain": [
              "<Figure size 720x360 with 1 Axes>"
            ],
            "image/png": "[encoded data removed]"
          },
          "metadata": {
            "needs_background": "light"
          }
        }
      ],
      "source": [
        "# coutplot of occupation of good and bad customer\n",
        "cus_seg = fact_cus.toPandas()\n",
        "plt.figure(figsize=(10,5))\n",
        "sns.countplot(x ='EnglishOccupation', hue='customerSeg', data= cus_seg)"
      ]
    },
    {
      "cell_type": "code",
      "source": [
        "# Boxplot of customer segment spending rate speding rate\n",
        "sns.boxplot(x='customerSeg', y='YearlyIncome', data= cus_seg);"
      ],
      "metadata": {
        "colab": {
          "base_uri": "https://localhost:8080/",
          "height": 279
        },
        "id": "qf4NyhYdA9t6",
        "outputId": "290a7672-1d37-4667-f111-70a042394b40"
      },
      "execution_count": null,
      "outputs": [
        {
          "output_type": "display_data",
          "data": {
            "text/plain": [
              "<Figure size 432x288 with 1 Axes>"
            ],
            "image/png": "[encoded data removed]"
          },
          "metadata": {
            "needs_background": "light"
          }
        }
      ]
    },
    {
      "cell_type": "code",
      "execution_count": null,
      "metadata": {
        "colab": {
          "base_uri": "https://localhost:8080/",
          "height": 295
        },
        "id": "KhOkQDaHMmss",
        "outputId": "3911f3c7-92dc-411d-f6bf-62df472b2b91"
      },
      "outputs": [
        {
          "data": {
            "image/png": "[encoded data removed]",
            "text/plain": [
              "<Figure size 432x288 with 1 Axes>"
            ]
          },
          "metadata": {},
          "output_type": "display_data"
        }
      ],
      "source": [
        "yt = fact_cus.select('YearlyIncome', 'TotalSpent').toPandas()\n",
        "sns.distplot(yt['TotalSpent'], kde=True, bins=15)\n",
        "plt.title('Distribution Plot of Total spent by Customers');"
      ]
    },
    {
      "cell_type": "markdown",
      "source": [
        "As seen from the frequency distribution plot above, majority of the customers spent a total amount below 500, which means majority of the customers spend minimally in relation to their earnings"
      ],
      "metadata": {
        "id": "ZvuAwOXfnCmW"
      }
    },
    {
      "cell_type": "code",
      "execution_count": null,
      "metadata": {
        "colab": {
          "base_uri": "https://localhost:8080/",
          "height": 320
        },
        "id": "AOtSAP30QVVa",
        "outputId": "8c38fd3f-46a1-40c8-9a77-992f8a2e3992"
      },
      "outputs": [
        {
          "data": {
            "image/png": "[encoded data removed]",
            "text/plain": [
              "<Figure size 720x360 with 1 Axes>"
            ]
          },
          "metadata": {},
          "output_type": "display_data"
        }
      ],
      "source": [
        "sex = fact_cus.select('Gender', 'YearlyIncome').toPandas()\n",
        "plt.figure(figsize=(10,5))\n",
        "sex[sex['Gender'] == 'M']['YearlyIncome'].hist(bins=35, color='blue', alpha= 0.6, label ='Male' )\n",
        "sex[sex['Gender'] == 'F']['YearlyIncome'].hist(bins=35, color='red', alpha= 0.6, label ='Female')\n",
        "#plt.title('Yearly Income')\n",
        "plt.legend();"
      ]
    },
    {
      "cell_type": "code",
      "execution_count": null,
      "metadata": {
        "colab": {
          "base_uri": "https://localhost:8080/",
          "height": 225
        },
        "id": "_ZJQAzxqYllJ",
        "outputId": "2af5df26-77e3-4484-e2e9-28afa5baeb1b"
      },
      "outputs": [
        {
          "data": {
            "image/png": "[encoded data removed]",
            "text/plain": [
              "<Figure size 432x216 with 2 Axes>"
            ]
          },
          "metadata": {},
          "output_type": "display_data"
        }
      ],
      "source": [
        "#Facet Gridplot showing the spending rate of both genders\n",
        "fc = fact_cus.toPandas()\n",
        "g = sns.FacetGrid(data=fc, col='Gender')\n",
        "g.map(sns.distplot, 'TotalSpent', kde=False);"
      ]
    },
    {
      "cell_type": "markdown",
      "source": [
        "As evident above, the spending rate of house owners is much higher that that of non-house owners, this might have come off from the fact that they have enough financial power to spend more on basic resources."
      ],
      "metadata": {
        "id": "fIGxCpBDmuE9"
      }
    },
    {
      "cell_type": "code",
      "execution_count": null,
      "metadata": {
        "colab": {
          "base_uri": "https://localhost:8080/",
          "height": 225
        },
        "id": "f3euDfSpbT3i",
        "outputId": "67e89252-dc6c-4310-a204-d481ad9e766c"
      },
      "outputs": [
        {
          "data": {
            "image/png": "[encoded data removed]",
            "text/plain": [
              "<Figure size 432x216 with 2 Axes>"
            ]
          },
          "metadata": {},
          "output_type": "display_data"
        }
      ],
      "source": [
        "#Facet Gridplot showing the spending rate of house ownership\n",
        "fc = fact_cus.toPandas()\n",
        "g = sns.FacetGrid(data=fc, col='HouseOwnerFlag')\n",
        "g.map(sns.distplot, 'TotalSpent', kde=False);"
      ]
    },
    {
      "cell_type": "markdown",
      "source": [
        "Similar to the house owners comparison, the above chart comapres spending rate of both sex, but in this case, there is no significant difference in both genders, i.e, they both spend on similar rate."
      ],
      "metadata": {
        "id": "eJpgthuxmlej"
      }
    },
    {
      "cell_type": "code",
      "execution_count": null,
      "metadata": {
        "colab": {
          "base_uri": "https://localhost:8080/"
        },
        "id": "IQMu1AGX1snV",
        "outputId": "edaaed5d-3174-450f-cac5-c626a653f9ac"
      },
      "outputs": [
        {
          "data": {
            "text/plain": [
              "0.9978454558160699"
            ]
          },
          "execution_count": 32,
          "metadata": {},
          "output_type": "execute_result"
        }
      ],
      "source": [
        "fact_cus.corr('TotalProductCost', 'TaxAmt')"
      ]
    },
    {
      "cell_type": "code",
      "execution_count": null,
      "metadata": {
        "colab": {
          "base_uri": "https://localhost:8080/"
        },
        "id": "LS55WvQif-IW",
        "outputId": "fcb87290-1d51-4c14-89c7-95352a5642b8"
      },
      "outputs": [
        {
          "name": "stdout",
          "output_type": "stream",
          "text": [
            "+-----------------------+----+----+\n",
            "|EnglishEducation_Gender|   F|   M|\n",
            "+-----------------------+----+----+\n",
            "|        Partial College|8318|8305|\n",
            "|        Graduate Degree|5400|5203|\n",
            "|            High School|5040|5280|\n",
            "|              Bachelors|8993|9151|\n",
            "|    Partial High School|2266|2442|\n",
            "+-----------------------+----+----+\n",
            "\n"
          ]
        }
      ],
      "source": [
        "#Contingency table of customers with English education and their gender \n",
        "fact_cus.crosstab(\"EnglishEducation\", \"Gender\").show()"
      ]
    },
    {
      "cell_type": "markdown",
      "source": [
        "Above is the contingency(cross) tabulation of customers with English education and their respective sex."
      ],
      "metadata": {
        "id": "mCNdbMDJmamR"
      }
    },
    {
      "cell_type": "code",
      "execution_count": null,
      "metadata": {
        "colab": {
          "base_uri": "https://localhost:8080/",
          "height": 444
        },
        "id": "t4iM-G7pge0V",
        "outputId": "e250b2e4-5558-4b4d-f54e-80c4ff4611e0"
      },
      "outputs": [
        {
          "data": {
            "image/png": "[encoded data removed]",
            "text/plain": [
              "<Figure size 720x504 with 2 Axes>"
            ]
          },
          "metadata": {},
          "output_type": "display_data"
        }
      ],
      "source": [
        "corre = fact_cus.select('TotalChildren', 'HouseOwnerFlag', 'NumberCarsOwned', 'YearlyIncome').toPandas().corr()\n",
        "plt.figure(figsize=(10,7))\n",
        "sns.heatmap(corre, cmap = 'magma', linewidths=1, linecolor='white', annot = True)\n",
        "plt.title('Correlation Heatmap');"
      ]
    },
    {
      "cell_type": "code",
      "execution_count": null,
      "metadata": {
        "id": "ES5sFr0zjkZ2"
      },
      "outputs": [],
      "source": []
    },
    {
      "cell_type": "markdown",
      "metadata": {
        "id": "cUmZ9NhF5VTz"
      },
      "source": [
        "# CLASSIFICATION"
      ]
    },
    {
      "cell_type": "code",
      "execution_count": null,
      "metadata": {
        "id": "S3mPAng35a5g"
      },
      "outputs": [],
      "source": [
        "# Joining the tables for Classification Analysis\n",
        "df_join1 = fact_terr.join(df_customer, on = ['CustomerKey'], how = 'left_outer')\n",
        "df_class = df_join1.join(df_product, on = ['ProductKey'], how = 'left_outer')"
      ]
    },
    {
      "cell_type": "code",
      "execution_count": null,
      "metadata": {
        "colab": {
          "base_uri": "https://localhost:8080/",
          "height": 206
        },
        "id": "b83_YEqm6fxs",
        "outputId": "05975a22-66a0-4692-e248-47f4c216f5a1"
      },
      "outputs": [
        {
          "output_type": "execute_result",
          "data": {
            "text/plain": [
              "  SalesTerritoryGroup  BirthDate  YearlyIncome  TotalChildren  \\\n",
              "0       North America 1952-02-19       70000.0              5   \n",
              "1              Europe 1970-06-17       20000.0              3   \n",
              "2       North America 1952-06-01       40000.0              5   \n",
              "3       North America 1943-11-10       80000.0              4   \n",
              "4             Pacific 1973-08-14       70000.0              0   \n",
              "\n",
              "   NumberChildrenAtHome EnglishEducation EnglishOccupation  NumberCarsOwned  \\\n",
              "0                     0        Bachelors        Management                3   \n",
              "1                     3      High School            Manual                0   \n",
              "2                     0      High School      Professional                3   \n",
              "3                     0  Graduate Degree        Management                2   \n",
              "4                     0        Bachelors      Professional                1   \n",
              "\n",
              "   customerSeg  \n",
              "0            1  \n",
              "1            1  \n",
              "2            1  \n",
              "3            1  \n",
              "4            1  "
            ],
            "text/html": [
              "\n",
              "  <div id=\"df-5c88401d-d94b-4e20-a5f2-e4290f525afc\">\n",
              "    <div class=\"colab-df-container\">\n",
              "      <div>\n",
              "<style scoped>\n",
              "    .dataframe tbody tr th:only-of-type {\n",
              "        vertical-align: middle;\n",
              "    }\n",
              "\n",
              "    .dataframe tbody tr th {\n",
              "        vertical-align: top;\n",
              "    }\n",
              "\n",
              "    .dataframe thead th {\n",
              "        text-align: right;\n",
              "    }\n",
              "</style>\n",
              "<table border=\"1\" class=\"dataframe\">\n",
              "  <thead>\n",
              "    <tr style=\"text-align: right;\">\n",
              "      <th></th>\n",
              "      <th>SalesTerritoryGroup</th>\n",
              "      <th>BirthDate</th>\n",
              "      <th>YearlyIncome</th>\n",
              "      <th>TotalChildren</th>\n",
              "      <th>NumberChildrenAtHome</th>\n",
              "      <th>EnglishEducation</th>\n",
              "      <th>EnglishOccupation</th>\n",
              "      <th>NumberCarsOwned</th>\n",
              "      <th>customerSeg</th>\n",
              "    </tr>\n",
              "  </thead>\n",
              "  <tbody>\n",
              "    <tr>\n",
              "      <th>0</th>\n",
              "      <td>North America</td>\n",
              "      <td>1952-02-19</td>\n",
              "      <td>70000.0</td>\n",
              "      <td>5</td>\n",
              "      <td>0</td>\n",
              "      <td>Bachelors</td>\n",
              "      <td>Management</td>\n",
              "      <td>3</td>\n",
              "      <td>1</td>\n",
              "    </tr>\n",
              "    <tr>\n",
              "      <th>1</th>\n",
              "      <td>Europe</td>\n",
              "      <td>1970-06-17</td>\n",
              "      <td>20000.0</td>\n",
              "      <td>3</td>\n",
              "      <td>3</td>\n",
              "      <td>High School</td>\n",
              "      <td>Manual</td>\n",
              "      <td>0</td>\n",
              "      <td>1</td>\n",
              "    </tr>\n",
              "    <tr>\n",
              "      <th>2</th>\n",
              "      <td>North America</td>\n",
              "      <td>1952-06-01</td>\n",
              "      <td>40000.0</td>\n",
              "      <td>5</td>\n",
              "      <td>0</td>\n",
              "      <td>High School</td>\n",
              "      <td>Professional</td>\n",
              "      <td>3</td>\n",
              "      <td>1</td>\n",
              "    </tr>\n",
              "    <tr>\n",
              "      <th>3</th>\n",
              "      <td>North America</td>\n",
              "      <td>1943-11-10</td>\n",
              "      <td>80000.0</td>\n",
              "      <td>4</td>\n",
              "      <td>0</td>\n",
              "      <td>Graduate Degree</td>\n",
              "      <td>Management</td>\n",
              "      <td>2</td>\n",
              "      <td>1</td>\n",
              "    </tr>\n",
              "    <tr>\n",
              "      <th>4</th>\n",
              "      <td>Pacific</td>\n",
              "      <td>1973-08-14</td>\n",
              "      <td>70000.0</td>\n",
              "      <td>0</td>\n",
              "      <td>0</td>\n",
              "      <td>Bachelors</td>\n",
              "      <td>Professional</td>\n",
              "      <td>1</td>\n",
              "      <td>1</td>\n",
              "    </tr>\n",
              "  </tbody>\n",
              "</table>\n",
              "</div>\n",
              "      <button class=\"colab-df-convert\" onclick=\"convertToInteractive('df-5c88401d-d94b-4e20-a5f2-e4290f525afc')\"\n",
              "              title=\"Convert this dataframe to an interactive table.\"\n",
              "              style=\"display:none;\">\n",
              "        \n",
              "  <svg xmlns=\"http://www.w3.org/2000/svg\" height=\"24px\"viewBox=\"0 0 24 24\"\n",
              "       width=\"24px\">\n",
              "    <path d=\"M0 0h24v24H0V0z\" fill=\"none\"/>\n",
              "    <path d=\"M18.56 5.44l.94 2.06.94-2.06 2.06-.94-2.06-.94-.94-2.06-.94 2.06-2.06.94zm-11 1L8.5 8.5l.94-2.06 2.06-.94-2.06-.94L8.5 2.5l-.94 2.06-2.06.94zm10 10l.94 2.06.94-2.06 2.06-.94-2.06-.94-.94-2.06-.94 2.06-2.06.94z\"/><path d=\"M17.41 7.96l-1.37-1.37c-.4-.4-.92-.59-1.43-.59-.52 0-1.04.2-1.43.59L10.3 9.45l-7.72 7.72c-.78.78-.78 2.05 0 2.83L4 21.41c.39.39.9.59 1.41.59.51 0 1.02-.2 1.41-.59l7.78-7.78 2.81-2.81c.8-.78.8-2.07 0-2.86zM5.41 20L4 18.59l7.72-7.72 1.47 1.35L5.41 20z\"/>\n",
              "  </svg>\n",
              "      </button>\n",
              "      \n",
              "  <style>\n",
              "    .colab-df-container {\n",
              "      display:flex;\n",
              "      flex-wrap:wrap;\n",
              "      gap: 12px;\n",
              "    }\n",
              "\n",
              "    .colab-df-convert {\n",
              "      background-color: #E8F0FE;\n",
              "      border: none;\n",
              "      border-radius: 50%;\n",
              "      cursor: pointer;\n",
              "      display: none;\n",
              "      fill: #1967D2;\n",
              "      height: 32px;\n",
              "      padding: 0 0 0 0;\n",
              "      width: 32px;\n",
              "    }\n",
              "\n",
              "    .colab-df-convert:hover {\n",
              "      background-color: #E2EBFA;\n",
              "      box-shadow: 0px 1px 2px rgba(60, 64, 67, 0.3), 0px 1px 3px 1px rgba(60, 64, 67, 0.15);\n",
              "      fill: #174EA6;\n",
              "    }\n",
              "\n",
              "    [theme=dark] .colab-df-convert {\n",
              "      background-color: #3B4455;\n",
              "      fill: #D2E3FC;\n",
              "    }\n",
              "\n",
              "    [theme=dark] .colab-df-convert:hover {\n",
              "      background-color: #434B5C;\n",
              "      box-shadow: 0px 1px 3px 1px rgba(0, 0, 0, 0.15);\n",
              "      filter: drop-shadow(0px 1px 2px rgba(0, 0, 0, 0.3));\n",
              "      fill: #FFFFFF;\n",
              "    }\n",
              "  </style>\n",
              "\n",
              "      <script>\n",
              "        const buttonEl =\n",
              "          document.querySelector('#df-5c88401d-d94b-4e20-a5f2-e4290f525afc button.colab-df-convert');\n",
              "        buttonEl.style.display =\n",
              "          google.colab.kernel.accessAllowed ? 'block' : 'none';\n",
              "\n",
              "        async function convertToInteractive(key) {\n",
              "          const element = document.querySelector('#df-5c88401d-d94b-4e20-a5f2-e4290f525afc');\n",
              "          const dataTable =\n",
              "            await google.colab.kernel.invokeFunction('convertToInteractive',\n",
              "                                                     [key], {});\n",
              "          if (!dataTable) return;\n",
              "\n",
              "          const docLinkHtml = 'Like what you see? Visit the ' +\n",
              "            '<a target=\"_blank\" href=https://colab.research.google.com/notebooks/data_table.ipynb>data table notebook</a>'\n",
              "            + ' to learn more about interactive tables.';\n",
              "          element.innerHTML = '';\n",
              "          dataTable['output_type'] = 'display_data';\n",
              "          await google.colab.output.renderOutput(dataTable, element);\n",
              "          const docLink = document.createElement('div');\n",
              "          docLink.innerHTML = docLinkHtml;\n",
              "          element.appendChild(docLink);\n",
              "        }\n",
              "      </script>\n",
              "    </div>\n",
              "  </div>\n",
              "  "
            ]
          },
          "metadata": {},
          "execution_count": 82
        }
      ],
      "source": [
        "# Selecting the needed features\n",
        "classs = df_class.select('SalesTerritoryGroup', 'BirthDate', 'YearlyIncome', 'TotalChildren', 'NumberChildrenAtHome', 'EnglishEducation', 'EnglishOccupation', 'NumberCarsOwned', 'customerSeg').toPandas()\n",
        "classs.head()"
      ]
    },
    {
      "cell_type": "markdown",
      "source": [
        "DATA MANIPULATION"
      ],
      "metadata": {
        "id": "TV-QcF_4Ka9e"
      }
    },
    {
      "cell_type": "code",
      "execution_count": null,
      "metadata": {
        "id": "9ULomkVg9OjZ"
      },
      "outputs": [],
      "source": [
        "# converting the customer date of birth to age\n",
        "from datetime import date\n",
        "classs['BirthDate'] = pd.to_datetime(classs.BirthDate)\n",
        "classs['Customer_Age'] = 2023 - classs['BirthDate'].apply(lambda time: time.year)"
      ]
    },
    {
      "cell_type": "code",
      "execution_count": null,
      "metadata": {
        "colab": {
          "base_uri": "https://localhost:8080/",
          "height": 382
        },
        "id": "_HRx1xZZ_9g8",
        "outputId": "94d4a168-81e1-444a-80f9-08e0e3c4616e"
      },
      "outputs": [
        {
          "output_type": "display_data",
          "data": {
            "text/plain": [
              "<Figure size 432x288 with 2 Axes>"
            ],
            "image/png": "[encoded data removed]"
          },
          "metadata": {
            "needs_background": "light"
          }
        }
      ],
      "source": [
        "# using seaborn to create a heatmap to visualise missing values\n",
        "sns.heatmap(classs.isnull());"
      ]
    },
    {
      "cell_type": "markdown",
      "metadata": {
        "id": "J3KxeqpKB-ib"
      },
      "source": [
        "The all-rhymed heatmap above inidicates nonNA dataset, so its safe to further with the analysis"
      ]
    },
    {
      "cell_type": "code",
      "execution_count": null,
      "metadata": {
        "id": "EblZhB5HB8F1"
      },
      "outputs": [],
      "source": [
        "# encoding the string variables\n",
        "STG = pd.get_dummies(classs['SalesTerritoryGroup'], drop_first=True)\n",
        "edu = pd.get_dummies(classs['EnglishEducation'], drop_first=True)\n",
        "occu = pd.get_dummies(classs['EnglishOccupation'], drop_first=True)"
      ]
    },
    {
      "cell_type": "code",
      "execution_count": null,
      "metadata": {
        "id": "lPBEw6RAQjSa"
      },
      "outputs": [],
      "source": [
        "# concatenating the new variables to the main and dropping the old ones.\n",
        "classs = pd.concat([classs, STG, edu, occu], axis = 1)\n",
        "classs.drop(columns=['SalesTerritoryGroup', 'EnglishEducation', 'EnglishOccupation', 'BirthDate'], inplace = True)"
      ]
    },
    {
      "cell_type": "code",
      "source": [
        "classs = classs[['YearlyIncome',\t'TotalChildren',\t'NumberChildrenAtHome',\t'NumberCarsOwned',\t'customerSeg',\t'Customer_Age',\t'North America',\t'Pacific',\t'High School',\t'Partial High School',\t'Management',\t'Skilled Manual']]\n",
        "classs.head(2)"
      ],
      "metadata": {
        "colab": {
          "base_uri": "https://localhost:8080/",
          "height": 191
        },
        "id": "ekNKkH-Lt_2-",
        "outputId": "ade1d9a9-32ce-43d2-9ec1-837b10acf678"
      },
      "execution_count": null,
      "outputs": [
        {
          "output_type": "execute_result",
          "data": {
            "text/plain": [
              "   YearlyIncome  TotalChildren  NumberChildrenAtHome  NumberCarsOwned  \\\n",
              "0       70000.0              5                     0                3   \n",
              "1       20000.0              3                     3                0   \n",
              "\n",
              "   customerSeg  Customer_Age  North America  Pacific  High School  \\\n",
              "0            1            71              1        0            0   \n",
              "1            1            53              0        0            1   \n",
              "\n",
              "   Partial High School  Management  Skilled Manual  \n",
              "0                    0           1               0  \n",
              "1                    0           0               0  "
            ],
            "text/html": [
              "\n",
              "  <div id=\"df-993f0e0c-6f77-4938-b38d-13e8a82638a2\">\n",
              "    <div class=\"colab-df-container\">\n",
              "      <div>\n",
              "<style scoped>\n",
              "    .dataframe tbody tr th:only-of-type {\n",
              "        vertical-align: middle;\n",
              "    }\n",
              "\n",
              "    .dataframe tbody tr th {\n",
              "        vertical-align: top;\n",
              "    }\n",
              "\n",
              "    .dataframe thead th {\n",
              "        text-align: right;\n",
              "    }\n",
              "</style>\n",
              "<table border=\"1\" class=\"dataframe\">\n",
              "  <thead>\n",
              "    <tr style=\"text-align: right;\">\n",
              "      <th></th>\n",
              "      <th>YearlyIncome</th>\n",
              "      <th>TotalChildren</th>\n",
              "      <th>NumberChildrenAtHome</th>\n",
              "      <th>NumberCarsOwned</th>\n",
              "      <th>customerSeg</th>\n",
              "      <th>Customer_Age</th>\n",
              "      <th>North America</th>\n",
              "      <th>Pacific</th>\n",
              "      <th>High School</th>\n",
              "      <th>Partial High School</th>\n",
              "      <th>Management</th>\n",
              "      <th>Skilled Manual</th>\n",
              "    </tr>\n",
              "  </thead>\n",
              "  <tbody>\n",
              "    <tr>\n",
              "      <th>0</th>\n",
              "      <td>70000.0</td>\n",
              "      <td>5</td>\n",
              "      <td>0</td>\n",
              "      <td>3</td>\n",
              "      <td>1</td>\n",
              "      <td>71</td>\n",
              "      <td>1</td>\n",
              "      <td>0</td>\n",
              "      <td>0</td>\n",
              "      <td>0</td>\n",
              "      <td>1</td>\n",
              "      <td>0</td>\n",
              "    </tr>\n",
              "    <tr>\n",
              "      <th>1</th>\n",
              "      <td>20000.0</td>\n",
              "      <td>3</td>\n",
              "      <td>3</td>\n",
              "      <td>0</td>\n",
              "      <td>1</td>\n",
              "      <td>53</td>\n",
              "      <td>0</td>\n",
              "      <td>0</td>\n",
              "      <td>1</td>\n",
              "      <td>0</td>\n",
              "      <td>0</td>\n",
              "      <td>0</td>\n",
              "    </tr>\n",
              "  </tbody>\n",
              "</table>\n",
              "</div>\n",
              "      <button class=\"colab-df-convert\" onclick=\"convertToInteractive('df-993f0e0c-6f77-4938-b38d-13e8a82638a2')\"\n",
              "              title=\"Convert this dataframe to an interactive table.\"\n",
              "              style=\"display:none;\">\n",
              "        \n",
              "  <svg xmlns=\"http://www.w3.org/2000/svg\" height=\"24px\"viewBox=\"0 0 24 24\"\n",
              "       width=\"24px\">\n",
              "    <path d=\"M0 0h24v24H0V0z\" fill=\"none\"/>\n",
              "    <path d=\"M18.56 5.44l.94 2.06.94-2.06 2.06-.94-2.06-.94-.94-2.06-.94 2.06-2.06.94zm-11 1L8.5 8.5l.94-2.06 2.06-.94-2.06-.94L8.5 2.5l-.94 2.06-2.06.94zm10 10l.94 2.06.94-2.06 2.06-.94-2.06-.94-.94-2.06-.94 2.06-2.06.94z\"/><path d=\"M17.41 7.96l-1.37-1.37c-.4-.4-.92-.59-1.43-.59-.52 0-1.04.2-1.43.59L10.3 9.45l-7.72 7.72c-.78.78-.78 2.05 0 2.83L4 21.41c.39.39.9.59 1.41.59.51 0 1.02-.2 1.41-.59l7.78-7.78 2.81-2.81c.8-.78.8-2.07 0-2.86zM5.41 20L4 18.59l7.72-7.72 1.47 1.35L5.41 20z\"/>\n",
              "  </svg>\n",
              "      </button>\n",
              "      \n",
              "  <style>\n",
              "    .colab-df-container {\n",
              "      display:flex;\n",
              "      flex-wrap:wrap;\n",
              "      gap: 12px;\n",
              "    }\n",
              "\n",
              "    .colab-df-convert {\n",
              "      background-color: #E8F0FE;\n",
              "      border: none;\n",
              "      border-radius: 50%;\n",
              "      cursor: pointer;\n",
              "      display: none;\n",
              "      fill: #1967D2;\n",
              "      height: 32px;\n",
              "      padding: 0 0 0 0;\n",
              "      width: 32px;\n",
              "    }\n",
              "\n",
              "    .colab-df-convert:hover {\n",
              "      background-color: #E2EBFA;\n",
              "      box-shadow: 0px 1px 2px rgba(60, 64, 67, 0.3), 0px 1px 3px 1px rgba(60, 64, 67, 0.15);\n",
              "      fill: #174EA6;\n",
              "    }\n",
              "\n",
              "    [theme=dark] .colab-df-convert {\n",
              "      background-color: #3B4455;\n",
              "      fill: #D2E3FC;\n",
              "    }\n",
              "\n",
              "    [theme=dark] .colab-df-convert:hover {\n",
              "      background-color: #434B5C;\n",
              "      box-shadow: 0px 1px 3px 1px rgba(0, 0, 0, 0.15);\n",
              "      filter: drop-shadow(0px 1px 2px rgba(0, 0, 0, 0.3));\n",
              "      fill: #FFFFFF;\n",
              "    }\n",
              "  </style>\n",
              "\n",
              "      <script>\n",
              "        const buttonEl =\n",
              "          document.querySelector('#df-993f0e0c-6f77-4938-b38d-13e8a82638a2 button.colab-df-convert');\n",
              "        buttonEl.style.display =\n",
              "          google.colab.kernel.accessAllowed ? 'block' : 'none';\n",
              "\n",
              "        async function convertToInteractive(key) {\n",
              "          const element = document.querySelector('#df-993f0e0c-6f77-4938-b38d-13e8a82638a2');\n",
              "          const dataTable =\n",
              "            await google.colab.kernel.invokeFunction('convertToInteractive',\n",
              "                                                     [key], {});\n",
              "          if (!dataTable) return;\n",
              "\n",
              "          const docLinkHtml = 'Like what you see? Visit the ' +\n",
              "            '<a target=\"_blank\" href=https://colab.research.google.com/notebooks/data_table.ipynb>data table notebook</a>'\n",
              "            + ' to learn more about interactive tables.';\n",
              "          element.innerHTML = '';\n",
              "          dataTable['output_type'] = 'display_data';\n",
              "          await google.colab.output.renderOutput(dataTable, element);\n",
              "          const docLink = document.createElement('div');\n",
              "          docLink.innerHTML = docLinkHtml;\n",
              "          element.appendChild(docLink);\n",
              "        }\n",
              "      </script>\n",
              "    </div>\n",
              "  </div>\n",
              "  "
            ]
          },
          "metadata": {},
          "execution_count": 91
        }
      ]
    },
    {
      "cell_type": "code",
      "source": [
        "plt.figure(figsize=(10,5))\n",
        "sns.distplot(classs['Customer_Age'], kde=True, bins= 25);"
      ],
      "metadata": {
        "colab": {
          "base_uri": "https://localhost:8080/",
          "height": 335
        },
        "id": "6wPdr_kReLZr",
        "outputId": "ddb8998a-3909-4e27-9af7-1f968bd52500"
      },
      "execution_count": null,
      "outputs": [
        {
          "output_type": "display_data",
          "data": {
            "text/plain": [
              "<Figure size 720x360 with 1 Axes>"
            ],
            "image/png": "[encoded data removed]"
          },
          "metadata": {
            "needs_background": "light"
          }
        }
      ]
    },
    {
      "cell_type": "markdown",
      "source": [
        "# DATA PREPROCESSING"
      ],
      "metadata": {
        "id": "wCtSmaXoKtUz"
      }
    },
    {
      "cell_type": "code",
      "execution_count": null,
      "metadata": {
        "id": "EuRjih7oUuHx"
      },
      "outputs": [],
      "source": [
        "# creating the independent and dependent variables\n",
        "X = classs.drop(['customerSeg'], axis = 1)\n",
        "y = classs['customerSeg']"
      ]
    },
    {
      "cell_type": "code",
      "execution_count": null,
      "metadata": {
        "id": "B_22hLlJd17Q"
      },
      "outputs": [],
      "source": [
        "# Splitting the dataset into test and train\n",
        "X_train, X_test, y_train, y_test = train_test_split(X, y, test_size=0.15, random_state=101)"
      ]
    },
    {
      "cell_type": "code",
      "source": [
        "# scaling out the dataset\n",
        "scaler_X = StandardScaler()\n",
        "X_train = scaler_X.fit_transform(X_train)\n",
        "X_test = scaler_X.fit_transform(X_test)"
      ],
      "metadata": {
        "id": "YEaZijmBk-8u"
      },
      "execution_count": null,
      "outputs": []
    },
    {
      "cell_type": "markdown",
      "source": [
        "# LOGISTIC REGRESSION"
      ],
      "metadata": {
        "id": "k1tYvfxBlI0A"
      }
    },
    {
      "cell_type": "code",
      "source": [
        "#creating a logistic regression object\n",
        "logmodel = LogisticRegression()"
      ],
      "metadata": {
        "id": "4uaIADK_lhad"
      },
      "execution_count": null,
      "outputs": []
    },
    {
      "cell_type": "code",
      "source": [
        "logmodel.fit(X_train,y_train)"
      ],
      "metadata": {
        "colab": {
          "base_uri": "https://localhost:8080/"
        },
        "id": "KQfF5_Wallly",
        "outputId": "5c6fc676-b727-4365-fe45-310a995c76fd"
      },
      "execution_count": null,
      "outputs": [
        {
          "output_type": "execute_result",
          "data": {
            "text/plain": [
              "LogisticRegression()"
            ]
          },
          "metadata": {},
          "execution_count": 141
        }
      ]
    },
    {
      "cell_type": "code",
      "source": [
        "log_pred = logmodel.predict(X_test)"
      ],
      "metadata": {
        "id": "IBUznc_plpJC"
      },
      "execution_count": null,
      "outputs": []
    },
    {
      "cell_type": "code",
      "source": [
        "#confusion matrix\n",
        "print(confusion_matrix(y_test, log_pred))\n",
        "print('\\n')\n",
        "print(classification_report(y_test, log_pred))"
      ],
      "metadata": {
        "colab": {
          "base_uri": "https://localhost:8080/"
        },
        "id": "1GuQezDWlzzP",
        "outputId": "9e47cad4-86ce-4ca9-8de8-bcdc3c03e9be"
      },
      "execution_count": null,
      "outputs": [
        {
          "output_type": "stream",
          "name": "stdout",
          "text": [
            "[[6710   47]\n",
            " [2254   49]]\n",
            "\n",
            "\n",
            "              precision    recall  f1-score   support\n",
            "\n",
            "           0       0.75      0.99      0.85      6757\n",
            "           1       0.51      0.02      0.04      2303\n",
            "\n",
            "    accuracy                           0.75      9060\n",
            "   macro avg       0.63      0.51      0.45      9060\n",
            "weighted avg       0.69      0.75      0.65      9060\n",
            "\n"
          ]
        }
      ]
    },
    {
      "cell_type": "markdown",
      "source": [
        "# SUPPORT VECTOR MACHINE"
      ],
      "metadata": {
        "id": "P1r1L8elLN3E"
      }
    },
    {
      "cell_type": "code",
      "source": [
        "classifier = SVC(kernel='rbf', random_state =0)\n",
        "classifier.fit(X_train, y_train)"
      ],
      "metadata": {
        "colab": {
          "base_uri": "https://localhost:8080/"
        },
        "id": "hlks_K-Umt6F",
        "outputId": "51d3bb80-89fb-4436-88cd-ba7c220012b9"
      },
      "execution_count": null,
      "outputs": [
        {
          "output_type": "execute_result",
          "data": {
            "text/plain": [
              "SVC(random_state=0)"
            ]
          },
          "metadata": {},
          "execution_count": 144
        }
      ]
    },
    {
      "cell_type": "code",
      "source": [
        "svc_pred = classifier.predict(X_test)"
      ],
      "metadata": {
        "id": "Ir9ZUv3kmwMA"
      },
      "execution_count": null,
      "outputs": []
    },
    {
      "cell_type": "code",
      "source": [
        "print(confusion_matrix(y_test, svc_pred))\n",
        "print('\\n')\n",
        "print(classification_report(y_test, svc_pred))"
      ],
      "metadata": {
        "colab": {
          "base_uri": "https://localhost:8080/"
        },
        "id": "M3Gfj_xVnT19",
        "outputId": "fec68b96-6f9c-48ea-b9be-10c7a6504848"
      },
      "execution_count": null,
      "outputs": [
        {
          "output_type": "stream",
          "name": "stdout",
          "text": [
            "[[6720   37]\n",
            " [2270   33]]\n",
            "\n",
            "\n",
            "              precision    recall  f1-score   support\n",
            "\n",
            "           0       0.75      0.99      0.85      6757\n",
            "           1       0.47      0.01      0.03      2303\n",
            "\n",
            "    accuracy                           0.75      9060\n",
            "   macro avg       0.61      0.50      0.44      9060\n",
            "weighted avg       0.68      0.75      0.64      9060\n",
            "\n"
          ]
        }
      ]
    },
    {
      "cell_type": "markdown",
      "source": [
        "# NAIV BAYES"
      ],
      "metadata": {
        "id": "Y7TBNmhYAJxd"
      }
    },
    {
      "cell_type": "code",
      "source": [
        "classifier = GaussianNB()\n",
        "classifier.fit(X_train, y_train)"
      ],
      "metadata": {
        "colab": {
          "base_uri": "https://localhost:8080/"
        },
        "id": "zutLBkEqoKVG",
        "outputId": "96621c6c-b3c7-463f-d90b-a622d9069850"
      },
      "execution_count": null,
      "outputs": [
        {
          "output_type": "execute_result",
          "data": {
            "text/plain": [
              "GaussianNB()"
            ]
          },
          "metadata": {},
          "execution_count": 119
        }
      ]
    },
    {
      "cell_type": "code",
      "source": [
        "nb_pred = classifier.predict(X_test)"
      ],
      "metadata": {
        "id": "adLFpMnWoLdp"
      },
      "execution_count": null,
      "outputs": []
    },
    {
      "cell_type": "code",
      "source": [
        "print(confusion_matrix(y_test, nb_pred))\n",
        "print('\\n')\n",
        "print(classification_report(y_test, nb_pred))"
      ],
      "metadata": {
        "colab": {
          "base_uri": "https://localhost:8080/"
        },
        "id": "ZFes-z6RoOwm",
        "outputId": "7cf109c8-372b-434f-86e8-c3f84d6a06b0"
      },
      "execution_count": null,
      "outputs": [
        {
          "output_type": "stream",
          "name": "stdout",
          "text": [
            "[[10166  1132]\n",
            " [ 3102   700]]\n",
            "\n",
            "\n",
            "              precision    recall  f1-score   support\n",
            "\n",
            "           0       0.77      0.90      0.83     11298\n",
            "           1       0.38      0.18      0.25      3802\n",
            "\n",
            "    accuracy                           0.72     15100\n",
            "   macro avg       0.57      0.54      0.54     15100\n",
            "weighted avg       0.67      0.72      0.68     15100\n",
            "\n"
          ]
        }
      ]
    },
    {
      "cell_type": "markdown",
      "source": [
        "NOTE: all libraries used are uploaded in the earlier part of this book"
      ],
      "metadata": {
        "id": "2Z0JglTsHmm3"
      }
    },
    {
      "cell_type": "code",
      "source": [],
      "metadata": {
        "id": "BFnBUcyGH6Xi"
      },
      "execution_count": null,
      "outputs": []
    }
  ],
  "metadata": {
    "colab": {
      "provenance": []
    },
    "gpuClass": "standard",
    "kernelspec": {
      "display_name": "Python 3",
      "name": "python3"
    },
    "language_info": {
      "name": "python"
    }
  },
  "nbformat": 4,
  "nbformat_minor": 0
}